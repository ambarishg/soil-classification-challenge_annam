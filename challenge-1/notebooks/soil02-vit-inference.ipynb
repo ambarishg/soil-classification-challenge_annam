{
 "cells": [
  {
   "cell_type": "code",
   "execution_count": 1,
   "id": "09c6b1b1",
   "metadata": {
    "execution": {
     "iopub.execute_input": "2025-05-22T16:45:51.330738Z",
     "iopub.status.busy": "2025-05-22T16:45:51.330507Z",
     "iopub.status.idle": "2025-05-22T16:45:51.336771Z",
     "shell.execute_reply": "2025-05-22T16:45:51.336305Z"
    },
    "papermill": {
     "duration": 0.013201,
     "end_time": "2025-05-22T16:45:51.337803",
     "exception": false,
     "start_time": "2025-05-22T16:45:51.324602",
     "status": "completed"
    },
    "tags": []
   },
   "outputs": [],
   "source": [
    "import os\n",
    "\n",
    "OUTPUT_DIR = './'\n",
    "MODEL_DIR = '/kaggle/input/soil-02-vit/'\n",
    "if not os.path.exists(OUTPUT_DIR):\n",
    "    os.makedirs(OUTPUT_DIR)\n",
    "\n",
    "TRAIN_PATH = '/kaggle/input/soil-classification/soil_classification-2025/train'\n",
    "TEST_PATH = '/kaggle/input/soil-classification/soil_classification-2025/test'"
   ]
  },
  {
   "cell_type": "code",
   "execution_count": 2,
   "id": "7ff4f5e8",
   "metadata": {
    "execution": {
     "iopub.execute_input": "2025-05-22T16:45:51.347137Z",
     "iopub.status.busy": "2025-05-22T16:45:51.346905Z",
     "iopub.status.idle": "2025-05-22T16:47:05.851587Z",
     "shell.execute_reply": "2025-05-22T16:47:05.850663Z"
    },
    "papermill": {
     "duration": 74.511172,
     "end_time": "2025-05-22T16:47:05.853202",
     "exception": false,
     "start_time": "2025-05-22T16:45:51.342030",
     "status": "completed"
    },
    "tags": []
   },
   "outputs": [
    {
     "name": "stdout",
     "output_type": "stream",
     "text": [
      "Requirement already satisfied: timm in /usr/local/lib/python3.11/dist-packages (1.0.15)\r\n",
      "Requirement already satisfied: torch in /usr/local/lib/python3.11/dist-packages (from timm) (2.6.0+cu124)\r\n",
      "Requirement already satisfied: torchvision in /usr/local/lib/python3.11/dist-packages (from timm) (0.21.0+cu124)\r\n",
      "Requirement already satisfied: pyyaml in /usr/local/lib/python3.11/dist-packages (from timm) (6.0.2)\r\n",
      "Requirement already satisfied: huggingface_hub in /usr/local/lib/python3.11/dist-packages (from timm) (0.31.1)\r\n",
      "Requirement already satisfied: safetensors in /usr/local/lib/python3.11/dist-packages (from timm) (0.5.3)\r\n",
      "Requirement already satisfied: filelock in /usr/local/lib/python3.11/dist-packages (from huggingface_hub->timm) (3.18.0)\r\n",
      "Requirement already satisfied: fsspec>=2023.5.0 in /usr/local/lib/python3.11/dist-packages (from huggingface_hub->timm) (2025.3.2)\r\n",
      "Requirement already satisfied: packaging>=20.9 in /usr/local/lib/python3.11/dist-packages (from huggingface_hub->timm) (25.0)\r\n",
      "Requirement already satisfied: requests in /usr/local/lib/python3.11/dist-packages (from huggingface_hub->timm) (2.32.3)\r\n",
      "Requirement already satisfied: tqdm>=4.42.1 in /usr/local/lib/python3.11/dist-packages (from huggingface_hub->timm) (4.67.1)\r\n",
      "Requirement already satisfied: typing-extensions>=3.7.4.3 in /usr/local/lib/python3.11/dist-packages (from huggingface_hub->timm) (4.13.2)\r\n",
      "Requirement already satisfied: hf-xet<2.0.0,>=1.1.0 in /usr/local/lib/python3.11/dist-packages (from huggingface_hub->timm) (1.1.0)\r\n",
      "Requirement already satisfied: networkx in /usr/local/lib/python3.11/dist-packages (from torch->timm) (3.4.2)\r\n",
      "Requirement already satisfied: jinja2 in /usr/local/lib/python3.11/dist-packages (from torch->timm) (3.1.6)\r\n",
      "Requirement already satisfied: nvidia-cuda-nvrtc-cu12==12.4.127 in /usr/local/lib/python3.11/dist-packages (from torch->timm) (12.4.127)\r\n",
      "Requirement already satisfied: nvidia-cuda-runtime-cu12==12.4.127 in /usr/local/lib/python3.11/dist-packages (from torch->timm) (12.4.127)\r\n",
      "Requirement already satisfied: nvidia-cuda-cupti-cu12==12.4.127 in /usr/local/lib/python3.11/dist-packages (from torch->timm) (12.4.127)\r\n",
      "Collecting nvidia-cudnn-cu12==9.1.0.70 (from torch->timm)\r\n",
      "  Downloading nvidia_cudnn_cu12-9.1.0.70-py3-none-manylinux2014_x86_64.whl.metadata (1.6 kB)\r\n",
      "Collecting nvidia-cublas-cu12==12.4.5.8 (from torch->timm)\r\n",
      "  Downloading nvidia_cublas_cu12-12.4.5.8-py3-none-manylinux2014_x86_64.whl.metadata (1.5 kB)\r\n",
      "Collecting nvidia-cufft-cu12==11.2.1.3 (from torch->timm)\r\n",
      "  Downloading nvidia_cufft_cu12-11.2.1.3-py3-none-manylinux2014_x86_64.whl.metadata (1.5 kB)\r\n",
      "Collecting nvidia-curand-cu12==10.3.5.147 (from torch->timm)\r\n",
      "  Downloading nvidia_curand_cu12-10.3.5.147-py3-none-manylinux2014_x86_64.whl.metadata (1.5 kB)\r\n",
      "Collecting nvidia-cusolver-cu12==11.6.1.9 (from torch->timm)\r\n",
      "  Downloading nvidia_cusolver_cu12-11.6.1.9-py3-none-manylinux2014_x86_64.whl.metadata (1.6 kB)\r\n",
      "Collecting nvidia-cusparse-cu12==12.3.1.170 (from torch->timm)\r\n",
      "  Downloading nvidia_cusparse_cu12-12.3.1.170-py3-none-manylinux2014_x86_64.whl.metadata (1.6 kB)\r\n",
      "Requirement already satisfied: nvidia-cusparselt-cu12==0.6.2 in /usr/local/lib/python3.11/dist-packages (from torch->timm) (0.6.2)\r\n",
      "Requirement already satisfied: nvidia-nccl-cu12==2.21.5 in /usr/local/lib/python3.11/dist-packages (from torch->timm) (2.21.5)\r\n",
      "Requirement already satisfied: nvidia-nvtx-cu12==12.4.127 in /usr/local/lib/python3.11/dist-packages (from torch->timm) (12.4.127)\r\n",
      "Collecting nvidia-nvjitlink-cu12==12.4.127 (from torch->timm)\r\n",
      "  Downloading nvidia_nvjitlink_cu12-12.4.127-py3-none-manylinux2014_x86_64.whl.metadata (1.5 kB)\r\n",
      "Requirement already satisfied: triton==3.2.0 in /usr/local/lib/python3.11/dist-packages (from torch->timm) (3.2.0)\r\n",
      "Requirement already satisfied: sympy==1.13.1 in /usr/local/lib/python3.11/dist-packages (from torch->timm) (1.13.1)\r\n",
      "Requirement already satisfied: mpmath<1.4,>=1.1.0 in /usr/local/lib/python3.11/dist-packages (from sympy==1.13.1->torch->timm) (1.3.0)\r\n",
      "Requirement already satisfied: numpy in /usr/local/lib/python3.11/dist-packages (from torchvision->timm) (1.26.4)\r\n",
      "Requirement already satisfied: pillow!=8.3.*,>=5.3.0 in /usr/local/lib/python3.11/dist-packages (from torchvision->timm) (11.1.0)\r\n",
      "Requirement already satisfied: MarkupSafe>=2.0 in /usr/local/lib/python3.11/dist-packages (from jinja2->torch->timm) (3.0.2)\r\n",
      "Requirement already satisfied: mkl_fft in /usr/local/lib/python3.11/dist-packages (from numpy->torchvision->timm) (1.3.8)\r\n",
      "Requirement already satisfied: mkl_random in /usr/local/lib/python3.11/dist-packages (from numpy->torchvision->timm) (1.2.4)\r\n",
      "Requirement already satisfied: mkl_umath in /usr/local/lib/python3.11/dist-packages (from numpy->torchvision->timm) (0.1.1)\r\n",
      "Requirement already satisfied: mkl in /usr/local/lib/python3.11/dist-packages (from numpy->torchvision->timm) (2025.1.0)\r\n",
      "Requirement already satisfied: tbb4py in /usr/local/lib/python3.11/dist-packages (from numpy->torchvision->timm) (2022.1.0)\r\n",
      "Requirement already satisfied: mkl-service in /usr/local/lib/python3.11/dist-packages (from numpy->torchvision->timm) (2.4.1)\r\n",
      "Requirement already satisfied: charset-normalizer<4,>=2 in /usr/local/lib/python3.11/dist-packages (from requests->huggingface_hub->timm) (3.4.2)\r\n",
      "Requirement already satisfied: idna<4,>=2.5 in /usr/local/lib/python3.11/dist-packages (from requests->huggingface_hub->timm) (3.10)\r\n",
      "Requirement already satisfied: urllib3<3,>=1.21.1 in /usr/local/lib/python3.11/dist-packages (from requests->huggingface_hub->timm) (2.4.0)\r\n",
      "Requirement already satisfied: certifi>=2017.4.17 in /usr/local/lib/python3.11/dist-packages (from requests->huggingface_hub->timm) (2025.4.26)\r\n",
      "Requirement already satisfied: intel-openmp<2026,>=2024 in /usr/local/lib/python3.11/dist-packages (from mkl->numpy->torchvision->timm) (2024.2.0)\r\n",
      "Requirement already satisfied: tbb==2022.* in /usr/local/lib/python3.11/dist-packages (from mkl->numpy->torchvision->timm) (2022.1.0)\r\n",
      "Requirement already satisfied: tcmlib==1.* in /usr/local/lib/python3.11/dist-packages (from tbb==2022.*->mkl->numpy->torchvision->timm) (1.3.0)\r\n",
      "Requirement already satisfied: intel-cmplr-lib-rt in /usr/local/lib/python3.11/dist-packages (from mkl_umath->numpy->torchvision->timm) (2024.2.0)\r\n",
      "Requirement already satisfied: intel-cmplr-lib-ur==2024.2.0 in /usr/local/lib/python3.11/dist-packages (from intel-openmp<2026,>=2024->mkl->numpy->torchvision->timm) (2024.2.0)\r\n",
      "Downloading nvidia_cublas_cu12-12.4.5.8-py3-none-manylinux2014_x86_64.whl (363.4 MB)\r\n",
      "\u001b[2K   \u001b[90m━━━━━━━━━━━━━━━━━━━━━━━━━━━━━━━━━━━━━━━━\u001b[0m \u001b[32m363.4/363.4 MB\u001b[0m \u001b[31m4.6 MB/s\u001b[0m eta \u001b[36m0:00:00\u001b[0m\r\n",
      "\u001b[?25hDownloading nvidia_cudnn_cu12-9.1.0.70-py3-none-manylinux2014_x86_64.whl (664.8 MB)\r\n",
      "\u001b[2K   \u001b[90m━━━━━━━━━━━━━━━━━━━━━━━━━━━━━━━━━━━━━━━━\u001b[0m \u001b[32m664.8/664.8 MB\u001b[0m \u001b[31m2.5 MB/s\u001b[0m eta \u001b[36m0:00:00\u001b[0m\r\n",
      "\u001b[?25hDownloading nvidia_cufft_cu12-11.2.1.3-py3-none-manylinux2014_x86_64.whl (211.5 MB)\r\n",
      "\u001b[2K   \u001b[90m━━━━━━━━━━━━━━━━━━━━━━━━━━━━━━━━━━━━━━━━\u001b[0m \u001b[32m211.5/211.5 MB\u001b[0m \u001b[31m7.9 MB/s\u001b[0m eta \u001b[36m0:00:00\u001b[0m\r\n",
      "\u001b[?25hDownloading nvidia_curand_cu12-10.3.5.147-py3-none-manylinux2014_x86_64.whl (56.3 MB)\r\n",
      "\u001b[2K   \u001b[90m━━━━━━━━━━━━━━━━━━━━━━━━━━━━━━━━━━━━━━━━\u001b[0m \u001b[32m56.3/56.3 MB\u001b[0m \u001b[31m30.2 MB/s\u001b[0m eta \u001b[36m0:00:00\u001b[0m\r\n",
      "\u001b[?25hDownloading nvidia_cusolver_cu12-11.6.1.9-py3-none-manylinux2014_x86_64.whl (127.9 MB)\r\n",
      "\u001b[2K   \u001b[90m━━━━━━━━━━━━━━━━━━━━━━━━━━━━━━━━━━━━━━━━\u001b[0m \u001b[32m127.9/127.9 MB\u001b[0m \u001b[31m6.6 MB/s\u001b[0m eta \u001b[36m0:00:00\u001b[0m\r\n",
      "\u001b[?25hDownloading nvidia_cusparse_cu12-12.3.1.170-py3-none-manylinux2014_x86_64.whl (207.5 MB)\r\n",
      "\u001b[2K   \u001b[90m━━━━━━━━━━━━━━━━━━━━━━━━━━━━━━━━━━━━━━━━\u001b[0m \u001b[32m207.5/207.5 MB\u001b[0m \u001b[31m8.1 MB/s\u001b[0m eta \u001b[36m0:00:00\u001b[0m\r\n",
      "\u001b[?25hDownloading nvidia_nvjitlink_cu12-12.4.127-py3-none-manylinux2014_x86_64.whl (21.1 MB)\r\n",
      "\u001b[2K   \u001b[90m━━━━━━━━━━━━━━━━━━━━━━━━━━━━━━━━━━━━━━━━\u001b[0m \u001b[32m21.1/21.1 MB\u001b[0m \u001b[31m85.2 MB/s\u001b[0m eta \u001b[36m0:00:00\u001b[0m\r\n",
      "\u001b[?25hInstalling collected packages: nvidia-nvjitlink-cu12, nvidia-curand-cu12, nvidia-cufft-cu12, nvidia-cublas-cu12, nvidia-cusparse-cu12, nvidia-cudnn-cu12, nvidia-cusolver-cu12\r\n",
      "  Attempting uninstall: nvidia-nvjitlink-cu12\r\n",
      "    Found existing installation: nvidia-nvjitlink-cu12 12.9.41\r\n",
      "    Uninstalling nvidia-nvjitlink-cu12-12.9.41:\r\n",
      "      Successfully uninstalled nvidia-nvjitlink-cu12-12.9.41\r\n",
      "  Attempting uninstall: nvidia-curand-cu12\r\n",
      "    Found existing installation: nvidia-curand-cu12 10.3.10.19\r\n",
      "    Uninstalling nvidia-curand-cu12-10.3.10.19:\r\n",
      "      Successfully uninstalled nvidia-curand-cu12-10.3.10.19\r\n",
      "  Attempting uninstall: nvidia-cufft-cu12\r\n",
      "    Found existing installation: nvidia-cufft-cu12 11.4.0.6\r\n",
      "    Uninstalling nvidia-cufft-cu12-11.4.0.6:\r\n",
      "      Successfully uninstalled nvidia-cufft-cu12-11.4.0.6\r\n",
      "  Attempting uninstall: nvidia-cublas-cu12\r\n",
      "    Found existing installation: nvidia-cublas-cu12 12.9.0.13\r\n",
      "    Uninstalling nvidia-cublas-cu12-12.9.0.13:\r\n",
      "      Successfully uninstalled nvidia-cublas-cu12-12.9.0.13\r\n",
      "  Attempting uninstall: nvidia-cusparse-cu12\r\n",
      "    Found existing installation: nvidia-cusparse-cu12 12.5.9.5\r\n",
      "    Uninstalling nvidia-cusparse-cu12-12.5.9.5:\r\n",
      "      Successfully uninstalled nvidia-cusparse-cu12-12.5.9.5\r\n",
      "  Attempting uninstall: nvidia-cudnn-cu12\r\n",
      "    Found existing installation: nvidia-cudnn-cu12 9.3.0.75\r\n",
      "    Uninstalling nvidia-cudnn-cu12-9.3.0.75:\r\n",
      "      Successfully uninstalled nvidia-cudnn-cu12-9.3.0.75\r\n",
      "  Attempting uninstall: nvidia-cusolver-cu12\r\n",
      "    Found existing installation: nvidia-cusolver-cu12 11.7.4.40\r\n",
      "    Uninstalling nvidia-cusolver-cu12-11.7.4.40:\r\n",
      "      Successfully uninstalled nvidia-cusolver-cu12-11.7.4.40\r\n",
      "Successfully installed nvidia-cublas-cu12-12.4.5.8 nvidia-cudnn-cu12-9.1.0.70 nvidia-cufft-cu12-11.2.1.3 nvidia-curand-cu12-10.3.5.147 nvidia-cusolver-cu12-11.6.1.9 nvidia-cusparse-cu12-12.3.1.170 nvidia-nvjitlink-cu12-12.4.127\r\n"
     ]
    }
   ],
   "source": [
    "!pip install timm"
   ]
  },
  {
   "cell_type": "code",
   "execution_count": 3,
   "id": "06a752ad",
   "metadata": {
    "execution": {
     "iopub.execute_input": "2025-05-22T16:47:05.897038Z",
     "iopub.status.busy": "2025-05-22T16:47:05.896575Z",
     "iopub.status.idle": "2025-05-22T16:47:05.900978Z",
     "shell.execute_reply": "2025-05-22T16:47:05.900436Z"
    },
    "papermill": {
     "duration": 0.027497,
     "end_time": "2025-05-22T16:47:05.902068",
     "exception": false,
     "start_time": "2025-05-22T16:47:05.874571",
     "status": "completed"
    },
    "tags": []
   },
   "outputs": [],
   "source": [
    "# CFG\n",
    "# ====================================================\n",
    "class CFG:\n",
    "    debug=False\n",
    "    num_workers=4\n",
    "    model_name='vit_base_patch16_384'\n",
    "    size=384\n",
    "    batch_size=16\n",
    "    seed=42\n",
    "    target_size=4\n",
    "    target_col='label_encoded'\n",
    "    n_fold=5\n",
    "    trn_fold=[0,1]\n",
    "    train=False\n",
    "    inference=True"
   ]
  },
  {
   "cell_type": "code",
   "execution_count": 4,
   "id": "29212903",
   "metadata": {
    "execution": {
     "iopub.execute_input": "2025-05-22T16:47:05.945190Z",
     "iopub.status.busy": "2025-05-22T16:47:05.944551Z",
     "iopub.status.idle": "2025-05-22T16:47:23.072541Z",
     "shell.execute_reply": "2025-05-22T16:47:23.071883Z"
    },
    "papermill": {
     "duration": 17.150627,
     "end_time": "2025-05-22T16:47:23.073925",
     "exception": false,
     "start_time": "2025-05-22T16:47:05.923298",
     "status": "completed"
    },
    "tags": []
   },
   "outputs": [
    {
     "name": "stderr",
     "output_type": "stream",
     "text": [
      "/usr/local/lib/python3.11/dist-packages/albumentations/__init__.py:28: UserWarning: A new version of Albumentations is available: '2.0.7' (you have '2.0.5'). Upgrade using: pip install -U albumentations. To disable automatic update checks, set the environment variable NO_ALBUMENTATIONS_UPDATE to 1.\n",
      "  check_for_updates()\n"
     ]
    }
   ],
   "source": [
    "import os\n",
    "import math\n",
    "import time\n",
    "import random\n",
    "import shutil\n",
    "from pathlib import Path\n",
    "from contextlib import contextmanager\n",
    "from collections import defaultdict, Counter\n",
    "\n",
    "import scipy as sp\n",
    "import numpy as np\n",
    "import pandas as pd\n",
    "\n",
    "from sklearn import preprocessing\n",
    "from sklearn.metrics import accuracy_score\n",
    "from sklearn.model_selection import StratifiedKFold\n",
    "\n",
    "from tqdm.auto import tqdm\n",
    "from functools import partial\n",
    "\n",
    "import cv2\n",
    "from PIL import Image\n",
    "\n",
    "import torch\n",
    "import torch.nn as nn\n",
    "import torch.nn.functional as F\n",
    "from torch.optim import Adam, SGD\n",
    "import torchvision.models as models\n",
    "from torch.nn.parameter import Parameter\n",
    "from torch.utils.data import DataLoader, Dataset\n",
    "from torch.optim.lr_scheduler import CosineAnnealingWarmRestarts, CosineAnnealingLR, ReduceLROnPlateau\n",
    "\n",
    "from albumentations import *\n",
    "from albumentations.pytorch import ToTensorV2\n",
    "from albumentations import ImageOnlyTransform\n",
    "\n",
    "import timm\n",
    "\n",
    "import warnings \n",
    "warnings.filterwarnings('ignore')\n",
    "\n",
    "device = torch.device('cuda' if torch.cuda.is_available() else 'cpu')"
   ]
  },
  {
   "cell_type": "code",
   "execution_count": 5,
   "id": "7ba50f16",
   "metadata": {
    "execution": {
     "iopub.execute_input": "2025-05-22T16:47:23.118660Z",
     "iopub.status.busy": "2025-05-22T16:47:23.118283Z",
     "iopub.status.idle": "2025-05-22T16:47:23.131460Z",
     "shell.execute_reply": "2025-05-22T16:47:23.130913Z"
    },
    "papermill": {
     "duration": 0.036233,
     "end_time": "2025-05-22T16:47:23.132475",
     "exception": false,
     "start_time": "2025-05-22T16:47:23.096242",
     "status": "completed"
    },
    "tags": []
   },
   "outputs": [],
   "source": [
    "# ====================================================\n",
    "# Utils\n",
    "# ====================================================\n",
    "def get_score(y_true, y_pred):\n",
    "    return f1_score(y_true, y_pred,average='weighted')\n",
    "\n",
    "\n",
    "@contextmanager\n",
    "def timer(name):\n",
    "    t0 = time.time()\n",
    "    LOGGER.info(f'[{name}] start')\n",
    "    yield\n",
    "    LOGGER.info(f'[{name}] done in {time.time() - t0:.0f} s.')\n",
    "\n",
    "\n",
    "def init_logger(log_file=OUTPUT_DIR+'train.log'):\n",
    "    from logging import getLogger, INFO, FileHandler,  Formatter,  StreamHandler\n",
    "    logger = getLogger(__name__)\n",
    "    logger.setLevel(INFO)\n",
    "    handler1 = StreamHandler()\n",
    "    handler1.setFormatter(Formatter(\"%(message)s\"))\n",
    "    handler2 = FileHandler(filename=log_file)\n",
    "    handler2.setFormatter(Formatter(\"%(message)s\"))\n",
    "    logger.addHandler(handler1)\n",
    "    logger.addHandler(handler2)\n",
    "    return logger\n",
    "\n",
    "LOGGER = init_logger()\n",
    "\n",
    "\n",
    "def seed_torch(seed=42):\n",
    "    random.seed(seed)\n",
    "    os.environ['PYTHONHASHSEED'] = str(seed)\n",
    "    np.random.seed(seed)\n",
    "    torch.manual_seed(seed)\n",
    "    torch.cuda.manual_seed(seed)\n",
    "    torch.backends.cudnn.deterministic = True\n",
    "\n",
    "seed_torch(seed=CFG.seed)"
   ]
  },
  {
   "cell_type": "code",
   "execution_count": 6,
   "id": "d397d20d",
   "metadata": {
    "execution": {
     "iopub.execute_input": "2025-05-22T16:47:23.175154Z",
     "iopub.status.busy": "2025-05-22T16:47:23.174886Z",
     "iopub.status.idle": "2025-05-22T16:47:23.200893Z",
     "shell.execute_reply": "2025-05-22T16:47:23.200285Z"
    },
    "papermill": {
     "duration": 0.048155,
     "end_time": "2025-05-22T16:47:23.201876",
     "exception": false,
     "start_time": "2025-05-22T16:47:23.153721",
     "status": "completed"
    },
    "tags": []
   },
   "outputs": [
    {
     "name": "stdout",
     "output_type": "stream",
     "text": [
      "341\n",
      "['img_0f035b97.jpg', 'img_f13af256.jpg', 'img_15b41dbc.jpg', 'img_cfb4fc7a.jpg']\n"
     ]
    }
   ],
   "source": [
    "test_files = os.listdir(TEST_PATH)\n",
    "print(len(test_files))\n",
    "print(test_files[:4])"
   ]
  },
  {
   "cell_type": "code",
   "execution_count": 7,
   "id": "367d7cb6",
   "metadata": {
    "execution": {
     "iopub.execute_input": "2025-05-22T16:47:23.244977Z",
     "iopub.status.busy": "2025-05-22T16:47:23.244730Z",
     "iopub.status.idle": "2025-05-22T16:47:23.273351Z",
     "shell.execute_reply": "2025-05-22T16:47:23.272744Z"
    },
    "papermill": {
     "duration": 0.051453,
     "end_time": "2025-05-22T16:47:23.274457",
     "exception": false,
     "start_time": "2025-05-22T16:47:23.223004",
     "status": "completed"
    },
    "tags": []
   },
   "outputs": [
    {
     "data": {
      "text/html": [
       "<div>\n",
       "<style scoped>\n",
       "    .dataframe tbody tr th:only-of-type {\n",
       "        vertical-align: middle;\n",
       "    }\n",
       "\n",
       "    .dataframe tbody tr th {\n",
       "        vertical-align: top;\n",
       "    }\n",
       "\n",
       "    .dataframe thead th {\n",
       "        text-align: right;\n",
       "    }\n",
       "</style>\n",
       "<table border=\"1\" class=\"dataframe\">\n",
       "  <thead>\n",
       "    <tr style=\"text-align: right;\">\n",
       "      <th></th>\n",
       "      <th>image_id</th>\n",
       "    </tr>\n",
       "  </thead>\n",
       "  <tbody>\n",
       "    <tr>\n",
       "      <th>0</th>\n",
       "      <td>img_0f035b97.jpg</td>\n",
       "    </tr>\n",
       "    <tr>\n",
       "      <th>1</th>\n",
       "      <td>img_f13af256.jpg</td>\n",
       "    </tr>\n",
       "    <tr>\n",
       "      <th>2</th>\n",
       "      <td>img_15b41dbc.jpg</td>\n",
       "    </tr>\n",
       "    <tr>\n",
       "      <th>3</th>\n",
       "      <td>img_cfb4fc7a.jpg</td>\n",
       "    </tr>\n",
       "    <tr>\n",
       "      <th>4</th>\n",
       "      <td>img_683111fb.jpg</td>\n",
       "    </tr>\n",
       "  </tbody>\n",
       "</table>\n",
       "</div>"
      ],
      "text/plain": [
       "           image_id\n",
       "0  img_0f035b97.jpg\n",
       "1  img_f13af256.jpg\n",
       "2  img_15b41dbc.jpg\n",
       "3  img_cfb4fc7a.jpg\n",
       "4  img_683111fb.jpg"
      ]
     },
     "execution_count": 7,
     "metadata": {},
     "output_type": "execute_result"
    }
   ],
   "source": [
    "test = pd.DataFrame()\n",
    "test[\"image_id\"] = test_files\n",
    "test.head()"
   ]
  },
  {
   "cell_type": "code",
   "execution_count": 8,
   "id": "c087b05f",
   "metadata": {
    "execution": {
     "iopub.execute_input": "2025-05-22T16:47:23.362042Z",
     "iopub.status.busy": "2025-05-22T16:47:23.361769Z",
     "iopub.status.idle": "2025-05-22T16:47:23.367432Z",
     "shell.execute_reply": "2025-05-22T16:47:23.366841Z"
    },
    "papermill": {
     "duration": 0.072989,
     "end_time": "2025-05-22T16:47:23.368485",
     "exception": false,
     "start_time": "2025-05-22T16:47:23.295496",
     "status": "completed"
    },
    "tags": []
   },
   "outputs": [],
   "source": [
    "# Dataset\n",
    "# ====================================================\n",
    "class TestDataset(Dataset):\n",
    "    def __init__(self, df, transform=None):\n",
    "        self.df = df\n",
    "        self.file_names = df['image_id'].values\n",
    "        self.transform = transform\n",
    "        \n",
    "    def __len__(self):\n",
    "        return len(self.df)\n",
    "\n",
    "    def __getitem__(self, idx):\n",
    "        file_name = self.file_names[idx]\n",
    "        file_path = f'{TEST_PATH}/{file_name}'\n",
    "        image = cv2.imread(file_path)\n",
    "        image = cv2.cvtColor(image, cv2.COLOR_BGR2RGB)\n",
    "        if self.transform:\n",
    "            augmented = self.transform(image=image)\n",
    "            image = augmented['image']\n",
    "        return image"
   ]
  },
  {
   "cell_type": "code",
   "execution_count": 9,
   "id": "e2099f6b",
   "metadata": {
    "execution": {
     "iopub.execute_input": "2025-05-22T16:47:23.412314Z",
     "iopub.status.busy": "2025-05-22T16:47:23.412065Z",
     "iopub.status.idle": "2025-05-22T16:47:23.416892Z",
     "shell.execute_reply": "2025-05-22T16:47:23.416388Z"
    },
    "papermill": {
     "duration": 0.027937,
     "end_time": "2025-05-22T16:47:23.417800",
     "exception": false,
     "start_time": "2025-05-22T16:47:23.389863",
     "status": "completed"
    },
    "tags": []
   },
   "outputs": [],
   "source": [
    "# ====================================================\n",
    "# Transforms\n",
    "# ====================================================\n",
    "def get_transforms(*, data):\n",
    "    \n",
    "    if data == 'train':\n",
    "        return Compose([\n",
    "            #Resize(CFG.size, CFG.size),\n",
    "            RandomResizedCrop(CFG.size, CFG.size),\n",
    "            Transpose(p=0.5),\n",
    "            HorizontalFlip(p=0.5),\n",
    "            VerticalFlip(p=0.5),\n",
    "            ShiftScaleRotate(p=0.5),\n",
    "            Normalize(\n",
    "                mean=[0.485, 0.456, 0.406],\n",
    "                std=[0.229, 0.224, 0.225],\n",
    "            ),\n",
    "            ToTensorV2(),\n",
    "        ])\n",
    "\n",
    "    elif data == 'valid':\n",
    "        return Compose([\n",
    "            Resize(CFG.size, CFG.size),\n",
    "            Normalize(\n",
    "                mean=[0.485, 0.456, 0.406],\n",
    "                std=[0.229, 0.224, 0.225],\n",
    "            ),\n",
    "            ToTensorV2(),\n",
    "        ])"
   ]
  },
  {
   "cell_type": "code",
   "execution_count": 10,
   "id": "9d336e62",
   "metadata": {
    "execution": {
     "iopub.execute_input": "2025-05-22T16:47:23.461043Z",
     "iopub.status.busy": "2025-05-22T16:47:23.460843Z",
     "iopub.status.idle": "2025-05-22T16:47:23.464736Z",
     "shell.execute_reply": "2025-05-22T16:47:23.464262Z"
    },
    "papermill": {
     "duration": 0.026872,
     "end_time": "2025-05-22T16:47:23.465899",
     "exception": false,
     "start_time": "2025-05-22T16:47:23.439027",
     "status": "completed"
    },
    "tags": []
   },
   "outputs": [],
   "source": [
    "# ====================================================\n",
    "# MODEL\n",
    "# ====================================================\n",
    "class CustomResNext(nn.Module):\n",
    "    def __init__(self, model_name='resnext50_32x4d', pretrained=False):\n",
    "        super().__init__()\n",
    "        self.model = timm.create_model(model_name, pretrained=pretrained, num_classes=CFG.target_size)\n",
    "\n",
    "    def forward(self, x):\n",
    "        x = self.model(x)\n",
    "        return x"
   ]
  },
  {
   "cell_type": "code",
   "execution_count": 11,
   "id": "765e5a78",
   "metadata": {
    "execution": {
     "iopub.execute_input": "2025-05-22T16:47:23.509186Z",
     "iopub.status.busy": "2025-05-22T16:47:23.508966Z",
     "iopub.status.idle": "2025-05-22T16:47:23.513069Z",
     "shell.execute_reply": "2025-05-22T16:47:23.512396Z"
    },
    "papermill": {
     "duration": 0.026476,
     "end_time": "2025-05-22T16:47:23.514148",
     "exception": false,
     "start_time": "2025-05-22T16:47:23.487672",
     "status": "completed"
    },
    "tags": []
   },
   "outputs": [],
   "source": [
    "    \n",
    "class CustomEfficientNet(nn.Module):\n",
    "    def __init__(self, model_name=CFG.model_name, pretrained=False):\n",
    "        super().__init__()\n",
    "        self.model = timm.create_model(CFG.model_name, pretrained=pretrained)\n",
    "        n_features = self.model.classifier.in_features\n",
    "        self.model.classifier = nn.Linear(n_features, CFG.target_size)\n",
    "\n",
    "    def forward(self, x):\n",
    "        x = self.model(x)\n",
    "        return x"
   ]
  },
  {
   "cell_type": "code",
   "execution_count": 12,
   "id": "e00d6bf7",
   "metadata": {
    "execution": {
     "iopub.execute_input": "2025-05-22T16:47:23.559447Z",
     "iopub.status.busy": "2025-05-22T16:47:23.559250Z",
     "iopub.status.idle": "2025-05-22T16:47:23.563407Z",
     "shell.execute_reply": "2025-05-22T16:47:23.562758Z"
    },
    "papermill": {
     "duration": 0.027228,
     "end_time": "2025-05-22T16:47:23.564458",
     "exception": false,
     "start_time": "2025-05-22T16:47:23.537230",
     "status": "completed"
    },
    "tags": []
   },
   "outputs": [],
   "source": [
    "class CustomViT(nn.Module):\n",
    "    def __init__(self, model_name=CFG.model_name, pretrained=False):\n",
    "        super().__init__()\n",
    "        self.model = timm.create_model(model_name, pretrained=pretrained)\n",
    "        n_features = self.model.head.in_features\n",
    "        self.model.head = nn.Linear(n_features, CFG.target_size)\n",
    "\n",
    "    def forward(self, x):\n",
    "        x = self.model(x)\n",
    "        return x"
   ]
  },
  {
   "cell_type": "code",
   "execution_count": 13,
   "id": "b78952b2",
   "metadata": {
    "execution": {
     "iopub.execute_input": "2025-05-22T16:47:23.608241Z",
     "iopub.status.busy": "2025-05-22T16:47:23.607859Z",
     "iopub.status.idle": "2025-05-22T16:47:23.612978Z",
     "shell.execute_reply": "2025-05-22T16:47:23.612312Z"
    },
    "papermill": {
     "duration": 0.028627,
     "end_time": "2025-05-22T16:47:23.614209",
     "exception": false,
     "start_time": "2025-05-22T16:47:23.585582",
     "status": "completed"
    },
    "tags": []
   },
   "outputs": [],
   "source": [
    "# ====================================================\n",
    "# Helper functions\n",
    "# ====================================================\n",
    "def inference(model, states, test_loader, device):\n",
    "    model.to(device)\n",
    "    tk0 = tqdm(enumerate(test_loader), total=len(test_loader))\n",
    "    probs = []\n",
    "    for i, (images) in tk0:\n",
    "        images = images.to(device)\n",
    "        avg_preds = []\n",
    "        for state in states:\n",
    "            model.load_state_dict(state['model'])\n",
    "            model.eval()\n",
    "            with torch.no_grad():\n",
    "                y_preds = model(images)\n",
    "            avg_preds.append(y_preds.softmax(1).to('cpu').numpy())\n",
    "        avg_preds = np.mean(avg_preds, axis=0)\n",
    "        probs.append(avg_preds)\n",
    "    probs = np.concatenate(probs)\n",
    "    return probs\n"
   ]
  },
  {
   "cell_type": "code",
   "execution_count": 14,
   "id": "ecc7e651",
   "metadata": {
    "execution": {
     "iopub.execute_input": "2025-05-22T16:47:23.659995Z",
     "iopub.status.busy": "2025-05-22T16:47:23.659804Z",
     "iopub.status.idle": "2025-05-22T16:47:52.269481Z",
     "shell.execute_reply": "2025-05-22T16:47:52.268528Z"
    },
    "papermill": {
     "duration": 28.633387,
     "end_time": "2025-05-22T16:47:52.270795",
     "exception": false,
     "start_time": "2025-05-22T16:47:23.637408",
     "status": "completed"
    },
    "tags": []
   },
   "outputs": [
    {
     "data": {
      "application/vnd.jupyter.widget-view+json": {
       "model_id": "463d65e193304ebfb303d7abadf0f8bb",
       "version_major": 2,
       "version_minor": 0
      },
      "text/plain": [
       "  0%|          | 0/22 [00:00<?, ?it/s]"
      ]
     },
     "metadata": {},
     "output_type": "display_data"
    },
    {
     "data": {
      "text/html": [
       "<div>\n",
       "<style scoped>\n",
       "    .dataframe tbody tr th:only-of-type {\n",
       "        vertical-align: middle;\n",
       "    }\n",
       "\n",
       "    .dataframe tbody tr th {\n",
       "        vertical-align: top;\n",
       "    }\n",
       "\n",
       "    .dataframe thead th {\n",
       "        text-align: right;\n",
       "    }\n",
       "</style>\n",
       "<table border=\"1\" class=\"dataframe\">\n",
       "  <thead>\n",
       "    <tr style=\"text-align: right;\">\n",
       "      <th></th>\n",
       "      <th>image_id</th>\n",
       "      <th>soil_type</th>\n",
       "    </tr>\n",
       "  </thead>\n",
       "  <tbody>\n",
       "    <tr>\n",
       "      <th>0</th>\n",
       "      <td>img_0f035b97.jpg</td>\n",
       "      <td>2</td>\n",
       "    </tr>\n",
       "    <tr>\n",
       "      <th>1</th>\n",
       "      <td>img_f13af256.jpg</td>\n",
       "      <td>2</td>\n",
       "    </tr>\n",
       "    <tr>\n",
       "      <th>2</th>\n",
       "      <td>img_15b41dbc.jpg</td>\n",
       "      <td>1</td>\n",
       "    </tr>\n",
       "    <tr>\n",
       "      <th>3</th>\n",
       "      <td>img_cfb4fc7a.jpg</td>\n",
       "      <td>1</td>\n",
       "    </tr>\n",
       "    <tr>\n",
       "      <th>4</th>\n",
       "      <td>img_683111fb.jpg</td>\n",
       "      <td>1</td>\n",
       "    </tr>\n",
       "  </tbody>\n",
       "</table>\n",
       "</div>"
      ],
      "text/plain": [
       "           image_id  soil_type\n",
       "0  img_0f035b97.jpg          2\n",
       "1  img_f13af256.jpg          2\n",
       "2  img_15b41dbc.jpg          1\n",
       "3  img_cfb4fc7a.jpg          1\n",
       "4  img_683111fb.jpg          1"
      ]
     },
     "execution_count": 14,
     "metadata": {},
     "output_type": "execute_result"
    }
   ],
   "source": [
    "model = CustomViT(CFG.model_name, pretrained=False)\n",
    "states = [torch.load(MODEL_DIR+f'{CFG.model_name}_fold{fold}_best.pth',weights_only = False) for fold in CFG.trn_fold]\n",
    "test_dataset = TestDataset(test, transform=get_transforms(data='valid'))\n",
    "test_loader = DataLoader(test_dataset, batch_size=CFG.batch_size, shuffle=False, \n",
    "                         num_workers=CFG.num_workers, pin_memory=True)\n",
    "predictions = inference(model, states, test_loader, device)\n",
    "# submission\n",
    "test['soil_type'] = predictions.argmax(1)\n",
    "test.head()"
   ]
  },
  {
   "cell_type": "code",
   "execution_count": 15,
   "id": "f7fbdc12",
   "metadata": {
    "execution": {
     "iopub.execute_input": "2025-05-22T16:47:52.318229Z",
     "iopub.status.busy": "2025-05-22T16:47:52.317940Z",
     "iopub.status.idle": "2025-05-22T16:47:52.326872Z",
     "shell.execute_reply": "2025-05-22T16:47:52.326108Z"
    },
    "papermill": {
     "duration": 0.033975,
     "end_time": "2025-05-22T16:47:52.328159",
     "exception": false,
     "start_time": "2025-05-22T16:47:52.294184",
     "status": "completed"
    },
    "tags": []
   },
   "outputs": [
    {
     "data": {
      "text/plain": [
       "array([2, 1, 3, 0])"
      ]
     },
     "execution_count": 15,
     "metadata": {},
     "output_type": "execute_result"
    }
   ],
   "source": [
    "test[\"soil_type\"].unique()"
   ]
  },
  {
   "cell_type": "code",
   "execution_count": 16,
   "id": "322bbb1c",
   "metadata": {
    "execution": {
     "iopub.execute_input": "2025-05-22T16:47:52.374841Z",
     "iopub.status.busy": "2025-05-22T16:47:52.374457Z",
     "iopub.status.idle": "2025-05-22T16:47:52.377485Z",
     "shell.execute_reply": "2025-05-22T16:47:52.376956Z"
    },
    "papermill": {
     "duration": 0.027464,
     "end_time": "2025-05-22T16:47:52.378493",
     "exception": false,
     "start_time": "2025-05-22T16:47:52.351029",
     "status": "completed"
    },
    "tags": []
   },
   "outputs": [],
   "source": [
    "import pandas as pd\n",
    "from sklearn.preprocessing import LabelEncoder"
   ]
  },
  {
   "cell_type": "code",
   "execution_count": 17,
   "id": "87175cc9",
   "metadata": {
    "execution": {
     "iopub.execute_input": "2025-05-22T16:47:52.422148Z",
     "iopub.status.busy": "2025-05-22T16:47:52.421947Z",
     "iopub.status.idle": "2025-05-22T16:47:52.442661Z",
     "shell.execute_reply": "2025-05-22T16:47:52.441930Z"
    },
    "papermill": {
     "duration": 0.043833,
     "end_time": "2025-05-22T16:47:52.443765",
     "exception": false,
     "start_time": "2025-05-22T16:47:52.399932",
     "status": "completed"
    },
    "tags": []
   },
   "outputs": [
    {
     "data": {
      "text/html": [
       "<div>\n",
       "<style scoped>\n",
       "    .dataframe tbody tr th:only-of-type {\n",
       "        vertical-align: middle;\n",
       "    }\n",
       "\n",
       "    .dataframe tbody tr th {\n",
       "        vertical-align: top;\n",
       "    }\n",
       "\n",
       "    .dataframe thead th {\n",
       "        text-align: right;\n",
       "    }\n",
       "</style>\n",
       "<table border=\"1\" class=\"dataframe\">\n",
       "  <thead>\n",
       "    <tr style=\"text-align: right;\">\n",
       "      <th></th>\n",
       "      <th>image_id</th>\n",
       "      <th>soil_type</th>\n",
       "    </tr>\n",
       "  </thead>\n",
       "  <tbody>\n",
       "    <tr>\n",
       "      <th>0</th>\n",
       "      <td>img_ed005410.jpg</td>\n",
       "      <td>Alluvial soil</td>\n",
       "    </tr>\n",
       "    <tr>\n",
       "      <th>1</th>\n",
       "      <td>img_0c5ecd2a.jpg</td>\n",
       "      <td>Alluvial soil</td>\n",
       "    </tr>\n",
       "    <tr>\n",
       "      <th>2</th>\n",
       "      <td>img_ed713bb5.jpg</td>\n",
       "      <td>Alluvial soil</td>\n",
       "    </tr>\n",
       "    <tr>\n",
       "      <th>3</th>\n",
       "      <td>img_12c58874.jpg</td>\n",
       "      <td>Alluvial soil</td>\n",
       "    </tr>\n",
       "    <tr>\n",
       "      <th>4</th>\n",
       "      <td>img_eff357af.jpg</td>\n",
       "      <td>Alluvial soil</td>\n",
       "    </tr>\n",
       "  </tbody>\n",
       "</table>\n",
       "</div>"
      ],
      "text/plain": [
       "           image_id      soil_type\n",
       "0  img_ed005410.jpg  Alluvial soil\n",
       "1  img_0c5ecd2a.jpg  Alluvial soil\n",
       "2  img_ed713bb5.jpg  Alluvial soil\n",
       "3  img_12c58874.jpg  Alluvial soil\n",
       "4  img_eff357af.jpg  Alluvial soil"
      ]
     },
     "metadata": {},
     "output_type": "display_data"
    }
   ],
   "source": [
    "train = pd.read_csv('/kaggle/input/soil-classification/soil_classification-2025/train_labels.csv')\n",
    "\n",
    "display(train.head())"
   ]
  },
  {
   "cell_type": "code",
   "execution_count": 18,
   "id": "25ee7ac0",
   "metadata": {
    "execution": {
     "iopub.execute_input": "2025-05-22T16:47:52.487025Z",
     "iopub.status.busy": "2025-05-22T16:47:52.486806Z",
     "iopub.status.idle": "2025-05-22T16:47:52.491210Z",
     "shell.execute_reply": "2025-05-22T16:47:52.490652Z"
    },
    "papermill": {
     "duration": 0.02721,
     "end_time": "2025-05-22T16:47:52.492157",
     "exception": false,
     "start_time": "2025-05-22T16:47:52.464947",
     "status": "completed"
    },
    "tags": []
   },
   "outputs": [],
   "source": [
    "le = LabelEncoder()\n",
    "train[\"label_encoded\"] = le.fit_transform(train[\"soil_type\"])"
   ]
  },
  {
   "cell_type": "code",
   "execution_count": 19,
   "id": "e47996c3",
   "metadata": {
    "execution": {
     "iopub.execute_input": "2025-05-22T16:47:52.535419Z",
     "iopub.status.busy": "2025-05-22T16:47:52.535203Z",
     "iopub.status.idle": "2025-05-22T16:47:52.538706Z",
     "shell.execute_reply": "2025-05-22T16:47:52.538127Z"
    },
    "papermill": {
     "duration": 0.026342,
     "end_time": "2025-05-22T16:47:52.539779",
     "exception": false,
     "start_time": "2025-05-22T16:47:52.513437",
     "status": "completed"
    },
    "tags": []
   },
   "outputs": [],
   "source": [
    "train[\"label\"] = train[\"soil_type\"]"
   ]
  },
  {
   "cell_type": "code",
   "execution_count": 20,
   "id": "ad404cbd",
   "metadata": {
    "execution": {
     "iopub.execute_input": "2025-05-22T16:47:52.583114Z",
     "iopub.status.busy": "2025-05-22T16:47:52.582874Z",
     "iopub.status.idle": "2025-05-22T16:47:52.585760Z",
     "shell.execute_reply": "2025-05-22T16:47:52.585270Z"
    },
    "papermill": {
     "duration": 0.025724,
     "end_time": "2025-05-22T16:47:52.586736",
     "exception": false,
     "start_time": "2025-05-22T16:47:52.561012",
     "status": "completed"
    },
    "tags": []
   },
   "outputs": [],
   "source": [
    "cols = [\"label_encoded\",\"label\"]"
   ]
  },
  {
   "cell_type": "code",
   "execution_count": 21,
   "id": "fd8be8d4",
   "metadata": {
    "execution": {
     "iopub.execute_input": "2025-05-22T16:47:52.632059Z",
     "iopub.status.busy": "2025-05-22T16:47:52.631850Z",
     "iopub.status.idle": "2025-05-22T16:47:52.643940Z",
     "shell.execute_reply": "2025-05-22T16:47:52.643362Z"
    },
    "papermill": {
     "duration": 0.035416,
     "end_time": "2025-05-22T16:47:52.644944",
     "exception": false,
     "start_time": "2025-05-22T16:47:52.609528",
     "status": "completed"
    },
    "tags": []
   },
   "outputs": [],
   "source": [
    "df=train[cols].value_counts()"
   ]
  },
  {
   "cell_type": "code",
   "execution_count": 22,
   "id": "eb7f5889",
   "metadata": {
    "execution": {
     "iopub.execute_input": "2025-05-22T16:47:52.688751Z",
     "iopub.status.busy": "2025-05-22T16:47:52.688536Z",
     "iopub.status.idle": "2025-05-22T16:47:52.691847Z",
     "shell.execute_reply": "2025-05-22T16:47:52.691360Z"
    },
    "papermill": {
     "duration": 0.02643,
     "end_time": "2025-05-22T16:47:52.692743",
     "exception": false,
     "start_time": "2025-05-22T16:47:52.666313",
     "status": "completed"
    },
    "tags": []
   },
   "outputs": [],
   "source": [
    "df = pd.DataFrame(df)"
   ]
  },
  {
   "cell_type": "code",
   "execution_count": 23,
   "id": "103fb13e",
   "metadata": {
    "execution": {
     "iopub.execute_input": "2025-05-22T16:47:52.735786Z",
     "iopub.status.busy": "2025-05-22T16:47:52.735595Z",
     "iopub.status.idle": "2025-05-22T16:47:52.740360Z",
     "shell.execute_reply": "2025-05-22T16:47:52.739835Z"
    },
    "papermill": {
     "duration": 0.027382,
     "end_time": "2025-05-22T16:47:52.741324",
     "exception": false,
     "start_time": "2025-05-22T16:47:52.713942",
     "status": "completed"
    },
    "tags": []
   },
   "outputs": [],
   "source": [
    "df_master = df.reset_index()"
   ]
  },
  {
   "cell_type": "code",
   "execution_count": 24,
   "id": "f1507934",
   "metadata": {
    "execution": {
     "iopub.execute_input": "2025-05-22T16:47:52.785536Z",
     "iopub.status.busy": "2025-05-22T16:47:52.785345Z",
     "iopub.status.idle": "2025-05-22T16:47:52.792188Z",
     "shell.execute_reply": "2025-05-22T16:47:52.791532Z"
    },
    "papermill": {
     "duration": 0.030761,
     "end_time": "2025-05-22T16:47:52.793333",
     "exception": false,
     "start_time": "2025-05-22T16:47:52.762572",
     "status": "completed"
    },
    "tags": []
   },
   "outputs": [
    {
     "data": {
      "text/html": [
       "<div>\n",
       "<style scoped>\n",
       "    .dataframe tbody tr th:only-of-type {\n",
       "        vertical-align: middle;\n",
       "    }\n",
       "\n",
       "    .dataframe tbody tr th {\n",
       "        vertical-align: top;\n",
       "    }\n",
       "\n",
       "    .dataframe thead th {\n",
       "        text-align: right;\n",
       "    }\n",
       "</style>\n",
       "<table border=\"1\" class=\"dataframe\">\n",
       "  <thead>\n",
       "    <tr style=\"text-align: right;\">\n",
       "      <th></th>\n",
       "      <th>label_encoded</th>\n",
       "      <th>label</th>\n",
       "    </tr>\n",
       "  </thead>\n",
       "  <tbody>\n",
       "    <tr>\n",
       "      <th>0</th>\n",
       "      <td>0</td>\n",
       "      <td>Alluvial soil</td>\n",
       "    </tr>\n",
       "    <tr>\n",
       "      <th>1</th>\n",
       "      <td>3</td>\n",
       "      <td>Red soil</td>\n",
       "    </tr>\n",
       "    <tr>\n",
       "      <th>2</th>\n",
       "      <td>1</td>\n",
       "      <td>Black Soil</td>\n",
       "    </tr>\n",
       "    <tr>\n",
       "      <th>3</th>\n",
       "      <td>2</td>\n",
       "      <td>Clay soil</td>\n",
       "    </tr>\n",
       "  </tbody>\n",
       "</table>\n",
       "</div>"
      ],
      "text/plain": [
       "   label_encoded          label\n",
       "0              0  Alluvial soil\n",
       "1              3       Red soil\n",
       "2              1     Black Soil\n",
       "3              2      Clay soil"
      ]
     },
     "execution_count": 24,
     "metadata": {},
     "output_type": "execute_result"
    }
   ],
   "source": [
    "df_master[cols]"
   ]
  },
  {
   "cell_type": "code",
   "execution_count": 25,
   "id": "26ac9fc4",
   "metadata": {
    "execution": {
     "iopub.execute_input": "2025-05-22T16:47:52.838789Z",
     "iopub.status.busy": "2025-05-22T16:47:52.838565Z",
     "iopub.status.idle": "2025-05-22T16:47:52.846275Z",
     "shell.execute_reply": "2025-05-22T16:47:52.845518Z"
    },
    "papermill": {
     "duration": 0.030946,
     "end_time": "2025-05-22T16:47:52.847385",
     "exception": false,
     "start_time": "2025-05-22T16:47:52.816439",
     "status": "completed"
    },
    "tags": []
   },
   "outputs": [
    {
     "data": {
      "text/html": [
       "<div>\n",
       "<style scoped>\n",
       "    .dataframe tbody tr th:only-of-type {\n",
       "        vertical-align: middle;\n",
       "    }\n",
       "\n",
       "    .dataframe tbody tr th {\n",
       "        vertical-align: top;\n",
       "    }\n",
       "\n",
       "    .dataframe thead th {\n",
       "        text-align: right;\n",
       "    }\n",
       "</style>\n",
       "<table border=\"1\" class=\"dataframe\">\n",
       "  <thead>\n",
       "    <tr style=\"text-align: right;\">\n",
       "      <th></th>\n",
       "      <th>image_id</th>\n",
       "      <th>soil_type</th>\n",
       "    </tr>\n",
       "  </thead>\n",
       "  <tbody>\n",
       "    <tr>\n",
       "      <th>0</th>\n",
       "      <td>img_0f035b97.jpg</td>\n",
       "      <td>2</td>\n",
       "    </tr>\n",
       "    <tr>\n",
       "      <th>1</th>\n",
       "      <td>img_f13af256.jpg</td>\n",
       "      <td>2</td>\n",
       "    </tr>\n",
       "    <tr>\n",
       "      <th>2</th>\n",
       "      <td>img_15b41dbc.jpg</td>\n",
       "      <td>1</td>\n",
       "    </tr>\n",
       "    <tr>\n",
       "      <th>3</th>\n",
       "      <td>img_cfb4fc7a.jpg</td>\n",
       "      <td>1</td>\n",
       "    </tr>\n",
       "    <tr>\n",
       "      <th>4</th>\n",
       "      <td>img_683111fb.jpg</td>\n",
       "      <td>1</td>\n",
       "    </tr>\n",
       "    <tr>\n",
       "      <th>...</th>\n",
       "      <td>...</td>\n",
       "      <td>...</td>\n",
       "    </tr>\n",
       "    <tr>\n",
       "      <th>336</th>\n",
       "      <td>img_ab698e86.jpg</td>\n",
       "      <td>2</td>\n",
       "    </tr>\n",
       "    <tr>\n",
       "      <th>337</th>\n",
       "      <td>img_d3c1f03b.jpg</td>\n",
       "      <td>1</td>\n",
       "    </tr>\n",
       "    <tr>\n",
       "      <th>338</th>\n",
       "      <td>img_0225b7de.jpg</td>\n",
       "      <td>0</td>\n",
       "    </tr>\n",
       "    <tr>\n",
       "      <th>339</th>\n",
       "      <td>img_2a1fe606.jpg</td>\n",
       "      <td>0</td>\n",
       "    </tr>\n",
       "    <tr>\n",
       "      <th>340</th>\n",
       "      <td>img_e0dba41e.jpg</td>\n",
       "      <td>1</td>\n",
       "    </tr>\n",
       "  </tbody>\n",
       "</table>\n",
       "<p>341 rows × 2 columns</p>\n",
       "</div>"
      ],
      "text/plain": [
       "             image_id  soil_type\n",
       "0    img_0f035b97.jpg          2\n",
       "1    img_f13af256.jpg          2\n",
       "2    img_15b41dbc.jpg          1\n",
       "3    img_cfb4fc7a.jpg          1\n",
       "4    img_683111fb.jpg          1\n",
       "..                ...        ...\n",
       "336  img_ab698e86.jpg          2\n",
       "337  img_d3c1f03b.jpg          1\n",
       "338  img_0225b7de.jpg          0\n",
       "339  img_2a1fe606.jpg          0\n",
       "340  img_e0dba41e.jpg          1\n",
       "\n",
       "[341 rows x 2 columns]"
      ]
     },
     "execution_count": 25,
     "metadata": {},
     "output_type": "execute_result"
    }
   ],
   "source": [
    "test"
   ]
  },
  {
   "cell_type": "code",
   "execution_count": 26,
   "id": "2dd003f8",
   "metadata": {
    "execution": {
     "iopub.execute_input": "2025-05-22T16:47:52.891794Z",
     "iopub.status.busy": "2025-05-22T16:47:52.891600Z",
     "iopub.status.idle": "2025-05-22T16:47:52.902418Z",
     "shell.execute_reply": "2025-05-22T16:47:52.901906Z"
    },
    "papermill": {
     "duration": 0.034296,
     "end_time": "2025-05-22T16:47:52.903435",
     "exception": false,
     "start_time": "2025-05-22T16:47:52.869139",
     "status": "completed"
    },
    "tags": []
   },
   "outputs": [],
   "source": [
    "import pandas as pd\n",
    "sub = pd.merge(test, df_master, left_on='soil_type', right_on='label_encoded', how='inner')"
   ]
  },
  {
   "cell_type": "code",
   "execution_count": 27,
   "id": "997db8c5",
   "metadata": {
    "execution": {
     "iopub.execute_input": "2025-05-22T16:47:52.946722Z",
     "iopub.status.busy": "2025-05-22T16:47:52.946526Z",
     "iopub.status.idle": "2025-05-22T16:47:52.949948Z",
     "shell.execute_reply": "2025-05-22T16:47:52.949284Z"
    },
    "papermill": {
     "duration": 0.026244,
     "end_time": "2025-05-22T16:47:52.950993",
     "exception": false,
     "start_time": "2025-05-22T16:47:52.924749",
     "status": "completed"
    },
    "tags": []
   },
   "outputs": [],
   "source": [
    "df_sub = pd.DataFrame()"
   ]
  },
  {
   "cell_type": "code",
   "execution_count": 28,
   "id": "1f1f0648",
   "metadata": {
    "execution": {
     "iopub.execute_input": "2025-05-22T16:47:52.994810Z",
     "iopub.status.busy": "2025-05-22T16:47:52.994615Z",
     "iopub.status.idle": "2025-05-22T16:47:52.999443Z",
     "shell.execute_reply": "2025-05-22T16:47:52.998536Z"
    },
    "papermill": {
     "duration": 0.028286,
     "end_time": "2025-05-22T16:47:53.000605",
     "exception": false,
     "start_time": "2025-05-22T16:47:52.972319",
     "status": "completed"
    },
    "tags": []
   },
   "outputs": [],
   "source": [
    "df_sub[\"image_id\"] = sub[\"image_id\"]\n",
    "df_sub[\"soil_type\"] = sub[\"label\"]"
   ]
  },
  {
   "cell_type": "code",
   "execution_count": 29,
   "id": "dabc836e",
   "metadata": {
    "execution": {
     "iopub.execute_input": "2025-05-22T16:47:53.045847Z",
     "iopub.status.busy": "2025-05-22T16:47:53.045628Z",
     "iopub.status.idle": "2025-05-22T16:47:53.052085Z",
     "shell.execute_reply": "2025-05-22T16:47:53.051531Z"
    },
    "papermill": {
     "duration": 0.030444,
     "end_time": "2025-05-22T16:47:53.053138",
     "exception": false,
     "start_time": "2025-05-22T16:47:53.022694",
     "status": "completed"
    },
    "tags": []
   },
   "outputs": [
    {
     "data": {
      "text/html": [
       "<div>\n",
       "<style scoped>\n",
       "    .dataframe tbody tr th:only-of-type {\n",
       "        vertical-align: middle;\n",
       "    }\n",
       "\n",
       "    .dataframe tbody tr th {\n",
       "        vertical-align: top;\n",
       "    }\n",
       "\n",
       "    .dataframe thead th {\n",
       "        text-align: right;\n",
       "    }\n",
       "</style>\n",
       "<table border=\"1\" class=\"dataframe\">\n",
       "  <thead>\n",
       "    <tr style=\"text-align: right;\">\n",
       "      <th></th>\n",
       "      <th>image_id</th>\n",
       "      <th>soil_type</th>\n",
       "    </tr>\n",
       "  </thead>\n",
       "  <tbody>\n",
       "    <tr>\n",
       "      <th>0</th>\n",
       "      <td>img_0f035b97.jpg</td>\n",
       "      <td>Clay soil</td>\n",
       "    </tr>\n",
       "    <tr>\n",
       "      <th>1</th>\n",
       "      <td>img_f13af256.jpg</td>\n",
       "      <td>Clay soil</td>\n",
       "    </tr>\n",
       "    <tr>\n",
       "      <th>2</th>\n",
       "      <td>img_15b41dbc.jpg</td>\n",
       "      <td>Black Soil</td>\n",
       "    </tr>\n",
       "    <tr>\n",
       "      <th>3</th>\n",
       "      <td>img_cfb4fc7a.jpg</td>\n",
       "      <td>Black Soil</td>\n",
       "    </tr>\n",
       "    <tr>\n",
       "      <th>4</th>\n",
       "      <td>img_683111fb.jpg</td>\n",
       "      <td>Black Soil</td>\n",
       "    </tr>\n",
       "  </tbody>\n",
       "</table>\n",
       "</div>"
      ],
      "text/plain": [
       "           image_id   soil_type\n",
       "0  img_0f035b97.jpg   Clay soil\n",
       "1  img_f13af256.jpg   Clay soil\n",
       "2  img_15b41dbc.jpg  Black Soil\n",
       "3  img_cfb4fc7a.jpg  Black Soil\n",
       "4  img_683111fb.jpg  Black Soil"
      ]
     },
     "execution_count": 29,
     "metadata": {},
     "output_type": "execute_result"
    }
   ],
   "source": [
    "df_sub.head()"
   ]
  },
  {
   "cell_type": "code",
   "execution_count": 30,
   "id": "07f269bc",
   "metadata": {
    "execution": {
     "iopub.execute_input": "2025-05-22T16:47:53.100961Z",
     "iopub.status.busy": "2025-05-22T16:47:53.100486Z",
     "iopub.status.idle": "2025-05-22T16:47:53.110001Z",
     "shell.execute_reply": "2025-05-22T16:47:53.109246Z"
    },
    "papermill": {
     "duration": 0.03554,
     "end_time": "2025-05-22T16:47:53.111307",
     "exception": false,
     "start_time": "2025-05-22T16:47:53.075767",
     "status": "completed"
    },
    "tags": []
   },
   "outputs": [],
   "source": [
    "df_sub.to_csv(OUTPUT_DIR+'submission.csv', index=False)"
   ]
  },
  {
   "cell_type": "code",
   "execution_count": null,
   "id": "cdcf6906",
   "metadata": {
    "papermill": {
     "duration": 0.022129,
     "end_time": "2025-05-22T16:47:53.155259",
     "exception": false,
     "start_time": "2025-05-22T16:47:53.133130",
     "status": "completed"
    },
    "tags": []
   },
   "outputs": [],
   "source": []
  }
 ],
 "metadata": {
  "kaggle": {
   "accelerator": "nvidiaTeslaT4",
   "dataSources": [
    {
     "databundleVersionId": 12375409,
     "sourceId": 102672,
     "sourceType": "competition"
    },
    {
     "sourceId": 241236331,
     "sourceType": "kernelVersion"
    }
   ],
   "dockerImageVersionId": 31041,
   "isGpuEnabled": true,
   "isInternetEnabled": true,
   "language": "python",
   "sourceType": "notebook"
  },
  "kernelspec": {
   "display_name": "Python 3",
   "language": "python",
   "name": "python3"
  },
  "language_info": {
   "codemirror_mode": {
    "name": "ipython",
    "version": 3
   },
   "file_extension": ".py",
   "mimetype": "text/x-python",
   "name": "python",
   "nbconvert_exporter": "python",
   "pygments_lexer": "ipython3",
   "version": "3.11.11"
  },
  "papermill": {
   "default_parameters": {},
   "duration": 129.551226,
   "end_time": "2025-05-22T16:47:56.078140",
   "environment_variables": {},
   "exception": null,
   "input_path": "__notebook__.ipynb",
   "output_path": "__notebook__.ipynb",
   "parameters": {},
   "start_time": "2025-05-22T16:45:46.526914",
   "version": "2.6.0"
  },
  "widgets": {
   "application/vnd.jupyter.widget-state+json": {
    "state": {
     "15ad6d242ff4490da20b9cd5a465b9d9": {
      "model_module": "@jupyter-widgets/controls",
      "model_module_version": "2.0.0",
      "model_name": "HTMLStyleModel",
      "state": {
       "_model_module": "@jupyter-widgets/controls",
       "_model_module_version": "2.0.0",
       "_model_name": "HTMLStyleModel",
       "_view_count": null,
       "_view_module": "@jupyter-widgets/base",
       "_view_module_version": "2.0.0",
       "_view_name": "StyleView",
       "background": null,
       "description_width": "",
       "font_size": null,
       "text_color": null
      }
     },
     "2d315c1b63d74691b4c17a4b5942c4ea": {
      "model_module": "@jupyter-widgets/base",
      "model_module_version": "2.0.0",
      "model_name": "LayoutModel",
      "state": {
       "_model_module": "@jupyter-widgets/base",
       "_model_module_version": "2.0.0",
       "_model_name": "LayoutModel",
       "_view_count": null,
       "_view_module": "@jupyter-widgets/base",
       "_view_module_version": "2.0.0",
       "_view_name": "LayoutView",
       "align_content": null,
       "align_items": null,
       "align_self": null,
       "border_bottom": null,
       "border_left": null,
       "border_right": null,
       "border_top": null,
       "bottom": null,
       "display": null,
       "flex": null,
       "flex_flow": null,
       "grid_area": null,
       "grid_auto_columns": null,
       "grid_auto_flow": null,
       "grid_auto_rows": null,
       "grid_column": null,
       "grid_gap": null,
       "grid_row": null,
       "grid_template_areas": null,
       "grid_template_columns": null,
       "grid_template_rows": null,
       "height": null,
       "justify_content": null,
       "justify_items": null,
       "left": null,
       "margin": null,
       "max_height": null,
       "max_width": null,
       "min_height": null,
       "min_width": null,
       "object_fit": null,
       "object_position": null,
       "order": null,
       "overflow": null,
       "padding": null,
       "right": null,
       "top": null,
       "visibility": null,
       "width": null
      }
     },
     "37136513b9a04589b8ad2c82c75050ef": {
      "model_module": "@jupyter-widgets/base",
      "model_module_version": "2.0.0",
      "model_name": "LayoutModel",
      "state": {
       "_model_module": "@jupyter-widgets/base",
       "_model_module_version": "2.0.0",
       "_model_name": "LayoutModel",
       "_view_count": null,
       "_view_module": "@jupyter-widgets/base",
       "_view_module_version": "2.0.0",
       "_view_name": "LayoutView",
       "align_content": null,
       "align_items": null,
       "align_self": null,
       "border_bottom": null,
       "border_left": null,
       "border_right": null,
       "border_top": null,
       "bottom": null,
       "display": null,
       "flex": null,
       "flex_flow": null,
       "grid_area": null,
       "grid_auto_columns": null,
       "grid_auto_flow": null,
       "grid_auto_rows": null,
       "grid_column": null,
       "grid_gap": null,
       "grid_row": null,
       "grid_template_areas": null,
       "grid_template_columns": null,
       "grid_template_rows": null,
       "height": null,
       "justify_content": null,
       "justify_items": null,
       "left": null,
       "margin": null,
       "max_height": null,
       "max_width": null,
       "min_height": null,
       "min_width": null,
       "object_fit": null,
       "object_position": null,
       "order": null,
       "overflow": null,
       "padding": null,
       "right": null,
       "top": null,
       "visibility": null,
       "width": null
      }
     },
     "40fab39376a74fc09e17bbcaf4a2676f": {
      "model_module": "@jupyter-widgets/base",
      "model_module_version": "2.0.0",
      "model_name": "LayoutModel",
      "state": {
       "_model_module": "@jupyter-widgets/base",
       "_model_module_version": "2.0.0",
       "_model_name": "LayoutModel",
       "_view_count": null,
       "_view_module": "@jupyter-widgets/base",
       "_view_module_version": "2.0.0",
       "_view_name": "LayoutView",
       "align_content": null,
       "align_items": null,
       "align_self": null,
       "border_bottom": null,
       "border_left": null,
       "border_right": null,
       "border_top": null,
       "bottom": null,
       "display": null,
       "flex": null,
       "flex_flow": null,
       "grid_area": null,
       "grid_auto_columns": null,
       "grid_auto_flow": null,
       "grid_auto_rows": null,
       "grid_column": null,
       "grid_gap": null,
       "grid_row": null,
       "grid_template_areas": null,
       "grid_template_columns": null,
       "grid_template_rows": null,
       "height": null,
       "justify_content": null,
       "justify_items": null,
       "left": null,
       "margin": null,
       "max_height": null,
       "max_width": null,
       "min_height": null,
       "min_width": null,
       "object_fit": null,
       "object_position": null,
       "order": null,
       "overflow": null,
       "padding": null,
       "right": null,
       "top": null,
       "visibility": null,
       "width": null
      }
     },
     "418cd77003434d8d975d82e941159bfd": {
      "model_module": "@jupyter-widgets/controls",
      "model_module_version": "2.0.0",
      "model_name": "HTMLModel",
      "state": {
       "_dom_classes": [],
       "_model_module": "@jupyter-widgets/controls",
       "_model_module_version": "2.0.0",
       "_model_name": "HTMLModel",
       "_view_count": null,
       "_view_module": "@jupyter-widgets/controls",
       "_view_module_version": "2.0.0",
       "_view_name": "HTMLView",
       "description": "",
       "description_allow_html": false,
       "layout": "IPY_MODEL_2d315c1b63d74691b4c17a4b5942c4ea",
       "placeholder": "​",
       "style": "IPY_MODEL_78093017e50441719d6442825a1a8afa",
       "tabbable": null,
       "tooltip": null,
       "value": " 22/22 [00:22&lt;00:00,  1.26it/s]"
      }
     },
     "463d65e193304ebfb303d7abadf0f8bb": {
      "model_module": "@jupyter-widgets/controls",
      "model_module_version": "2.0.0",
      "model_name": "HBoxModel",
      "state": {
       "_dom_classes": [],
       "_model_module": "@jupyter-widgets/controls",
       "_model_module_version": "2.0.0",
       "_model_name": "HBoxModel",
       "_view_count": null,
       "_view_module": "@jupyter-widgets/controls",
       "_view_module_version": "2.0.0",
       "_view_name": "HBoxView",
       "box_style": "",
       "children": [
        "IPY_MODEL_79b97adf22444a3baeb439da480d9cdd",
        "IPY_MODEL_7a5e78a0be854cf2b3e8026aea6bd4d0",
        "IPY_MODEL_418cd77003434d8d975d82e941159bfd"
       ],
       "layout": "IPY_MODEL_40fab39376a74fc09e17bbcaf4a2676f",
       "tabbable": null,
       "tooltip": null
      }
     },
     "78093017e50441719d6442825a1a8afa": {
      "model_module": "@jupyter-widgets/controls",
      "model_module_version": "2.0.0",
      "model_name": "HTMLStyleModel",
      "state": {
       "_model_module": "@jupyter-widgets/controls",
       "_model_module_version": "2.0.0",
       "_model_name": "HTMLStyleModel",
       "_view_count": null,
       "_view_module": "@jupyter-widgets/base",
       "_view_module_version": "2.0.0",
       "_view_name": "StyleView",
       "background": null,
       "description_width": "",
       "font_size": null,
       "text_color": null
      }
     },
     "79b97adf22444a3baeb439da480d9cdd": {
      "model_module": "@jupyter-widgets/controls",
      "model_module_version": "2.0.0",
      "model_name": "HTMLModel",
      "state": {
       "_dom_classes": [],
       "_model_module": "@jupyter-widgets/controls",
       "_model_module_version": "2.0.0",
       "_model_name": "HTMLModel",
       "_view_count": null,
       "_view_module": "@jupyter-widgets/controls",
       "_view_module_version": "2.0.0",
       "_view_name": "HTMLView",
       "description": "",
       "description_allow_html": false,
       "layout": "IPY_MODEL_ae8bc3c5c6e4492198632cc995747caf",
       "placeholder": "​",
       "style": "IPY_MODEL_15ad6d242ff4490da20b9cd5a465b9d9",
       "tabbable": null,
       "tooltip": null,
       "value": "100%"
      }
     },
     "7a5e78a0be854cf2b3e8026aea6bd4d0": {
      "model_module": "@jupyter-widgets/controls",
      "model_module_version": "2.0.0",
      "model_name": "FloatProgressModel",
      "state": {
       "_dom_classes": [],
       "_model_module": "@jupyter-widgets/controls",
       "_model_module_version": "2.0.0",
       "_model_name": "FloatProgressModel",
       "_view_count": null,
       "_view_module": "@jupyter-widgets/controls",
       "_view_module_version": "2.0.0",
       "_view_name": "ProgressView",
       "bar_style": "success",
       "description": "",
       "description_allow_html": false,
       "layout": "IPY_MODEL_37136513b9a04589b8ad2c82c75050ef",
       "max": 22.0,
       "min": 0.0,
       "orientation": "horizontal",
       "style": "IPY_MODEL_b341040d5b384047917fff16eb982890",
       "tabbable": null,
       "tooltip": null,
       "value": 22.0
      }
     },
     "ae8bc3c5c6e4492198632cc995747caf": {
      "model_module": "@jupyter-widgets/base",
      "model_module_version": "2.0.0",
      "model_name": "LayoutModel",
      "state": {
       "_model_module": "@jupyter-widgets/base",
       "_model_module_version": "2.0.0",
       "_model_name": "LayoutModel",
       "_view_count": null,
       "_view_module": "@jupyter-widgets/base",
       "_view_module_version": "2.0.0",
       "_view_name": "LayoutView",
       "align_content": null,
       "align_items": null,
       "align_self": null,
       "border_bottom": null,
       "border_left": null,
       "border_right": null,
       "border_top": null,
       "bottom": null,
       "display": null,
       "flex": null,
       "flex_flow": null,
       "grid_area": null,
       "grid_auto_columns": null,
       "grid_auto_flow": null,
       "grid_auto_rows": null,
       "grid_column": null,
       "grid_gap": null,
       "grid_row": null,
       "grid_template_areas": null,
       "grid_template_columns": null,
       "grid_template_rows": null,
       "height": null,
       "justify_content": null,
       "justify_items": null,
       "left": null,
       "margin": null,
       "max_height": null,
       "max_width": null,
       "min_height": null,
       "min_width": null,
       "object_fit": null,
       "object_position": null,
       "order": null,
       "overflow": null,
       "padding": null,
       "right": null,
       "top": null,
       "visibility": null,
       "width": null
      }
     },
     "b341040d5b384047917fff16eb982890": {
      "model_module": "@jupyter-widgets/controls",
      "model_module_version": "2.0.0",
      "model_name": "ProgressStyleModel",
      "state": {
       "_model_module": "@jupyter-widgets/controls",
       "_model_module_version": "2.0.0",
       "_model_name": "ProgressStyleModel",
       "_view_count": null,
       "_view_module": "@jupyter-widgets/base",
       "_view_module_version": "2.0.0",
       "_view_name": "StyleView",
       "bar_color": null,
       "description_width": ""
      }
     }
    },
    "version_major": 2,
    "version_minor": 0
   }
  }
 },
 "nbformat": 4,
 "nbformat_minor": 5
}
