{
 "cells": [
  {
   "cell_type": "code",
   "execution_count": 1,
   "id": "ff67c52b",
   "metadata": {
    "execution": {
     "iopub.execute_input": "2025-05-22T12:16:03.567362Z",
     "iopub.status.busy": "2025-05-22T12:16:03.567115Z",
     "iopub.status.idle": "2025-05-22T12:16:03.573830Z",
     "shell.execute_reply": "2025-05-22T12:16:03.573104Z"
    },
    "papermill": {
     "duration": 0.013679,
     "end_time": "2025-05-22T12:16:03.575039",
     "exception": false,
     "start_time": "2025-05-22T12:16:03.561360",
     "status": "completed"
    },
    "tags": []
   },
   "outputs": [],
   "source": [
    "import os\n",
    "\n",
    "OUTPUT_DIR = './'\n",
    "MODEL_DIR = '/kaggle/input/soil-02-effnetb7/'\n",
    "if not os.path.exists(OUTPUT_DIR):\n",
    "    os.makedirs(OUTPUT_DIR)\n",
    "\n",
    "TRAIN_PATH = '/kaggle/input/soil-classification/soil_classification-2025/train'\n",
    "TEST_PATH = '/kaggle/input/soil-classification/soil_classification-2025/test'"
   ]
  },
  {
   "cell_type": "code",
   "execution_count": 2,
   "id": "359a7a5e",
   "metadata": {
    "execution": {
     "iopub.execute_input": "2025-05-22T12:16:03.583998Z",
     "iopub.status.busy": "2025-05-22T12:16:03.583794Z",
     "iopub.status.idle": "2025-05-22T12:17:20.618789Z",
     "shell.execute_reply": "2025-05-22T12:17:20.618049Z"
    },
    "papermill": {
     "duration": 77.040833,
     "end_time": "2025-05-22T12:17:20.620118",
     "exception": false,
     "start_time": "2025-05-22T12:16:03.579285",
     "status": "completed"
    },
    "tags": []
   },
   "outputs": [
    {
     "name": "stdout",
     "output_type": "stream",
     "text": [
      "Requirement already satisfied: timm in /usr/local/lib/python3.11/dist-packages (1.0.15)\r\n",
      "Requirement already satisfied: torch in /usr/local/lib/python3.11/dist-packages (from timm) (2.6.0+cu124)\r\n",
      "Requirement already satisfied: torchvision in /usr/local/lib/python3.11/dist-packages (from timm) (0.21.0+cu124)\r\n",
      "Requirement already satisfied: pyyaml in /usr/local/lib/python3.11/dist-packages (from timm) (6.0.2)\r\n",
      "Requirement already satisfied: huggingface_hub in /usr/local/lib/python3.11/dist-packages (from timm) (0.31.1)\r\n",
      "Requirement already satisfied: safetensors in /usr/local/lib/python3.11/dist-packages (from timm) (0.5.3)\r\n",
      "Requirement already satisfied: filelock in /usr/local/lib/python3.11/dist-packages (from huggingface_hub->timm) (3.18.0)\r\n",
      "Requirement already satisfied: fsspec>=2023.5.0 in /usr/local/lib/python3.11/dist-packages (from huggingface_hub->timm) (2025.3.2)\r\n",
      "Requirement already satisfied: packaging>=20.9 in /usr/local/lib/python3.11/dist-packages (from huggingface_hub->timm) (25.0)\r\n",
      "Requirement already satisfied: requests in /usr/local/lib/python3.11/dist-packages (from huggingface_hub->timm) (2.32.3)\r\n",
      "Requirement already satisfied: tqdm>=4.42.1 in /usr/local/lib/python3.11/dist-packages (from huggingface_hub->timm) (4.67.1)\r\n",
      "Requirement already satisfied: typing-extensions>=3.7.4.3 in /usr/local/lib/python3.11/dist-packages (from huggingface_hub->timm) (4.13.2)\r\n",
      "Requirement already satisfied: hf-xet<2.0.0,>=1.1.0 in /usr/local/lib/python3.11/dist-packages (from huggingface_hub->timm) (1.1.0)\r\n",
      "Requirement already satisfied: networkx in /usr/local/lib/python3.11/dist-packages (from torch->timm) (3.4.2)\r\n",
      "Requirement already satisfied: jinja2 in /usr/local/lib/python3.11/dist-packages (from torch->timm) (3.1.6)\r\n",
      "Requirement already satisfied: nvidia-cuda-nvrtc-cu12==12.4.127 in /usr/local/lib/python3.11/dist-packages (from torch->timm) (12.4.127)\r\n",
      "Requirement already satisfied: nvidia-cuda-runtime-cu12==12.4.127 in /usr/local/lib/python3.11/dist-packages (from torch->timm) (12.4.127)\r\n",
      "Requirement already satisfied: nvidia-cuda-cupti-cu12==12.4.127 in /usr/local/lib/python3.11/dist-packages (from torch->timm) (12.4.127)\r\n",
      "Collecting nvidia-cudnn-cu12==9.1.0.70 (from torch->timm)\r\n",
      "  Downloading nvidia_cudnn_cu12-9.1.0.70-py3-none-manylinux2014_x86_64.whl.metadata (1.6 kB)\r\n",
      "Collecting nvidia-cublas-cu12==12.4.5.8 (from torch->timm)\r\n",
      "  Downloading nvidia_cublas_cu12-12.4.5.8-py3-none-manylinux2014_x86_64.whl.metadata (1.5 kB)\r\n",
      "Collecting nvidia-cufft-cu12==11.2.1.3 (from torch->timm)\r\n",
      "  Downloading nvidia_cufft_cu12-11.2.1.3-py3-none-manylinux2014_x86_64.whl.metadata (1.5 kB)\r\n",
      "Collecting nvidia-curand-cu12==10.3.5.147 (from torch->timm)\r\n",
      "  Downloading nvidia_curand_cu12-10.3.5.147-py3-none-manylinux2014_x86_64.whl.metadata (1.5 kB)\r\n",
      "Collecting nvidia-cusolver-cu12==11.6.1.9 (from torch->timm)\r\n",
      "  Downloading nvidia_cusolver_cu12-11.6.1.9-py3-none-manylinux2014_x86_64.whl.metadata (1.6 kB)\r\n",
      "Collecting nvidia-cusparse-cu12==12.3.1.170 (from torch->timm)\r\n",
      "  Downloading nvidia_cusparse_cu12-12.3.1.170-py3-none-manylinux2014_x86_64.whl.metadata (1.6 kB)\r\n",
      "Requirement already satisfied: nvidia-cusparselt-cu12==0.6.2 in /usr/local/lib/python3.11/dist-packages (from torch->timm) (0.6.2)\r\n",
      "Requirement already satisfied: nvidia-nccl-cu12==2.21.5 in /usr/local/lib/python3.11/dist-packages (from torch->timm) (2.21.5)\r\n",
      "Requirement already satisfied: nvidia-nvtx-cu12==12.4.127 in /usr/local/lib/python3.11/dist-packages (from torch->timm) (12.4.127)\r\n",
      "Collecting nvidia-nvjitlink-cu12==12.4.127 (from torch->timm)\r\n",
      "  Downloading nvidia_nvjitlink_cu12-12.4.127-py3-none-manylinux2014_x86_64.whl.metadata (1.5 kB)\r\n",
      "Requirement already satisfied: triton==3.2.0 in /usr/local/lib/python3.11/dist-packages (from torch->timm) (3.2.0)\r\n",
      "Requirement already satisfied: sympy==1.13.1 in /usr/local/lib/python3.11/dist-packages (from torch->timm) (1.13.1)\r\n",
      "Requirement already satisfied: mpmath<1.4,>=1.1.0 in /usr/local/lib/python3.11/dist-packages (from sympy==1.13.1->torch->timm) (1.3.0)\r\n",
      "Requirement already satisfied: numpy in /usr/local/lib/python3.11/dist-packages (from torchvision->timm) (1.26.4)\r\n",
      "Requirement already satisfied: pillow!=8.3.*,>=5.3.0 in /usr/local/lib/python3.11/dist-packages (from torchvision->timm) (11.1.0)\r\n",
      "Requirement already satisfied: MarkupSafe>=2.0 in /usr/local/lib/python3.11/dist-packages (from jinja2->torch->timm) (3.0.2)\r\n",
      "Requirement already satisfied: mkl_fft in /usr/local/lib/python3.11/dist-packages (from numpy->torchvision->timm) (1.3.8)\r\n",
      "Requirement already satisfied: mkl_random in /usr/local/lib/python3.11/dist-packages (from numpy->torchvision->timm) (1.2.4)\r\n",
      "Requirement already satisfied: mkl_umath in /usr/local/lib/python3.11/dist-packages (from numpy->torchvision->timm) (0.1.1)\r\n",
      "Requirement already satisfied: mkl in /usr/local/lib/python3.11/dist-packages (from numpy->torchvision->timm) (2025.1.0)\r\n",
      "Requirement already satisfied: tbb4py in /usr/local/lib/python3.11/dist-packages (from numpy->torchvision->timm) (2022.1.0)\r\n",
      "Requirement already satisfied: mkl-service in /usr/local/lib/python3.11/dist-packages (from numpy->torchvision->timm) (2.4.1)\r\n",
      "Requirement already satisfied: charset-normalizer<4,>=2 in /usr/local/lib/python3.11/dist-packages (from requests->huggingface_hub->timm) (3.4.2)\r\n",
      "Requirement already satisfied: idna<4,>=2.5 in /usr/local/lib/python3.11/dist-packages (from requests->huggingface_hub->timm) (3.10)\r\n",
      "Requirement already satisfied: urllib3<3,>=1.21.1 in /usr/local/lib/python3.11/dist-packages (from requests->huggingface_hub->timm) (2.4.0)\r\n",
      "Requirement already satisfied: certifi>=2017.4.17 in /usr/local/lib/python3.11/dist-packages (from requests->huggingface_hub->timm) (2025.4.26)\r\n",
      "Requirement already satisfied: intel-openmp<2026,>=2024 in /usr/local/lib/python3.11/dist-packages (from mkl->numpy->torchvision->timm) (2024.2.0)\r\n",
      "Requirement already satisfied: tbb==2022.* in /usr/local/lib/python3.11/dist-packages (from mkl->numpy->torchvision->timm) (2022.1.0)\r\n",
      "Requirement already satisfied: tcmlib==1.* in /usr/local/lib/python3.11/dist-packages (from tbb==2022.*->mkl->numpy->torchvision->timm) (1.3.0)\r\n",
      "Requirement already satisfied: intel-cmplr-lib-rt in /usr/local/lib/python3.11/dist-packages (from mkl_umath->numpy->torchvision->timm) (2024.2.0)\r\n",
      "Requirement already satisfied: intel-cmplr-lib-ur==2024.2.0 in /usr/local/lib/python3.11/dist-packages (from intel-openmp<2026,>=2024->mkl->numpy->torchvision->timm) (2024.2.0)\r\n",
      "Downloading nvidia_cublas_cu12-12.4.5.8-py3-none-manylinux2014_x86_64.whl (363.4 MB)\r\n",
      "\u001b[2K   \u001b[90m━━━━━━━━━━━━━━━━━━━━━━━━━━━━━━━━━━━━━━━━\u001b[0m \u001b[32m363.4/363.4 MB\u001b[0m \u001b[31m4.7 MB/s\u001b[0m eta \u001b[36m0:00:00\u001b[0m\r\n",
      "\u001b[?25hDownloading nvidia_cudnn_cu12-9.1.0.70-py3-none-manylinux2014_x86_64.whl (664.8 MB)\r\n",
      "\u001b[2K   \u001b[90m━━━━━━━━━━━━━━━━━━━━━━━━━━━━━━━━━━━━━━━━\u001b[0m \u001b[32m664.8/664.8 MB\u001b[0m \u001b[31m2.2 MB/s\u001b[0m eta \u001b[36m0:00:00\u001b[0m\r\n",
      "\u001b[?25hDownloading nvidia_cufft_cu12-11.2.1.3-py3-none-manylinux2014_x86_64.whl (211.5 MB)\r\n",
      "\u001b[2K   \u001b[90m━━━━━━━━━━━━━━━━━━━━━━━━━━━━━━━━━━━━━━━━\u001b[0m \u001b[32m211.5/211.5 MB\u001b[0m \u001b[31m5.2 MB/s\u001b[0m eta \u001b[36m0:00:00\u001b[0m\r\n",
      "\u001b[?25hDownloading nvidia_curand_cu12-10.3.5.147-py3-none-manylinux2014_x86_64.whl (56.3 MB)\r\n",
      "\u001b[2K   \u001b[90m━━━━━━━━━━━━━━━━━━━━━━━━━━━━━━━━━━━━━━━━\u001b[0m \u001b[32m56.3/56.3 MB\u001b[0m \u001b[31m3.3 MB/s\u001b[0m eta \u001b[36m0:00:00\u001b[0m\r\n",
      "\u001b[?25hDownloading nvidia_cusolver_cu12-11.6.1.9-py3-none-manylinux2014_x86_64.whl (127.9 MB)\r\n",
      "\u001b[2K   \u001b[90m━━━━━━━━━━━━━━━━━━━━━━━━━━━━━━━━━━━━━━━━\u001b[0m \u001b[32m127.9/127.9 MB\u001b[0m \u001b[31m9.9 MB/s\u001b[0m eta \u001b[36m0:00:00\u001b[0m\r\n",
      "\u001b[?25hDownloading nvidia_cusparse_cu12-12.3.1.170-py3-none-manylinux2014_x86_64.whl (207.5 MB)\r\n",
      "\u001b[2K   \u001b[90m━━━━━━━━━━━━━━━━━━━━━━━━━━━━━━━━━━━━━━━━\u001b[0m \u001b[32m207.5/207.5 MB\u001b[0m \u001b[31m8.3 MB/s\u001b[0m eta \u001b[36m0:00:00\u001b[0m\r\n",
      "\u001b[?25hDownloading nvidia_nvjitlink_cu12-12.4.127-py3-none-manylinux2014_x86_64.whl (21.1 MB)\r\n",
      "\u001b[2K   \u001b[90m━━━━━━━━━━━━━━━━━━━━━━━━━━━━━━━━━━━━━━━━\u001b[0m \u001b[32m21.1/21.1 MB\u001b[0m \u001b[31m83.3 MB/s\u001b[0m eta \u001b[36m0:00:00\u001b[0m\r\n",
      "\u001b[?25hInstalling collected packages: nvidia-nvjitlink-cu12, nvidia-curand-cu12, nvidia-cufft-cu12, nvidia-cublas-cu12, nvidia-cusparse-cu12, nvidia-cudnn-cu12, nvidia-cusolver-cu12\r\n",
      "  Attempting uninstall: nvidia-nvjitlink-cu12\r\n",
      "    Found existing installation: nvidia-nvjitlink-cu12 12.9.41\r\n",
      "    Uninstalling nvidia-nvjitlink-cu12-12.9.41:\r\n",
      "      Successfully uninstalled nvidia-nvjitlink-cu12-12.9.41\r\n",
      "  Attempting uninstall: nvidia-curand-cu12\r\n",
      "    Found existing installation: nvidia-curand-cu12 10.3.10.19\r\n",
      "    Uninstalling nvidia-curand-cu12-10.3.10.19:\r\n",
      "      Successfully uninstalled nvidia-curand-cu12-10.3.10.19\r\n",
      "  Attempting uninstall: nvidia-cufft-cu12\r\n",
      "    Found existing installation: nvidia-cufft-cu12 11.4.0.6\r\n",
      "    Uninstalling nvidia-cufft-cu12-11.4.0.6:\r\n",
      "      Successfully uninstalled nvidia-cufft-cu12-11.4.0.6\r\n",
      "  Attempting uninstall: nvidia-cublas-cu12\r\n",
      "    Found existing installation: nvidia-cublas-cu12 12.9.0.13\r\n",
      "    Uninstalling nvidia-cublas-cu12-12.9.0.13:\r\n",
      "      Successfully uninstalled nvidia-cublas-cu12-12.9.0.13\r\n",
      "  Attempting uninstall: nvidia-cusparse-cu12\r\n",
      "    Found existing installation: nvidia-cusparse-cu12 12.5.9.5\r\n",
      "    Uninstalling nvidia-cusparse-cu12-12.5.9.5:\r\n",
      "      Successfully uninstalled nvidia-cusparse-cu12-12.5.9.5\r\n",
      "  Attempting uninstall: nvidia-cudnn-cu12\r\n",
      "    Found existing installation: nvidia-cudnn-cu12 9.3.0.75\r\n",
      "    Uninstalling nvidia-cudnn-cu12-9.3.0.75:\r\n",
      "      Successfully uninstalled nvidia-cudnn-cu12-9.3.0.75\r\n",
      "  Attempting uninstall: nvidia-cusolver-cu12\r\n",
      "    Found existing installation: nvidia-cusolver-cu12 11.7.4.40\r\n",
      "    Uninstalling nvidia-cusolver-cu12-11.7.4.40:\r\n",
      "      Successfully uninstalled nvidia-cusolver-cu12-11.7.4.40\r\n",
      "Successfully installed nvidia-cublas-cu12-12.4.5.8 nvidia-cudnn-cu12-9.1.0.70 nvidia-cufft-cu12-11.2.1.3 nvidia-curand-cu12-10.3.5.147 nvidia-cusolver-cu12-11.6.1.9 nvidia-cusparse-cu12-12.3.1.170 nvidia-nvjitlink-cu12-12.4.127\r\n"
     ]
    }
   ],
   "source": [
    "!pip install timm"
   ]
  },
  {
   "cell_type": "code",
   "execution_count": 3,
   "id": "ebe3f445",
   "metadata": {
    "execution": {
     "iopub.execute_input": "2025-05-22T12:17:20.666685Z",
     "iopub.status.busy": "2025-05-22T12:17:20.666424Z",
     "iopub.status.idle": "2025-05-22T12:17:20.671017Z",
     "shell.execute_reply": "2025-05-22T12:17:20.670329Z"
    },
    "papermill": {
     "duration": 0.029223,
     "end_time": "2025-05-22T12:17:20.672180",
     "exception": false,
     "start_time": "2025-05-22T12:17:20.642957",
     "status": "completed"
    },
    "tags": []
   },
   "outputs": [],
   "source": [
    "# CFG\n",
    "# ====================================================\n",
    "class CFG:\n",
    "    debug=False\n",
    "    num_workers=4\n",
    "    model_name='tf_efficientnet_b7_ns'\n",
    "    size=512\n",
    "    batch_size=16\n",
    "    seed=42\n",
    "    target_size=4\n",
    "    target_col='label_encoded'\n",
    "    n_fold=5\n",
    "    trn_fold=[0,1]\n",
    "    train=False\n",
    "    inference=True"
   ]
  },
  {
   "cell_type": "code",
   "execution_count": 4,
   "id": "acfb0e91",
   "metadata": {
    "execution": {
     "iopub.execute_input": "2025-05-22T12:17:20.718385Z",
     "iopub.status.busy": "2025-05-22T12:17:20.717552Z",
     "iopub.status.idle": "2025-05-22T12:17:38.574338Z",
     "shell.execute_reply": "2025-05-22T12:17:38.573700Z"
    },
    "papermill": {
     "duration": 17.881123,
     "end_time": "2025-05-22T12:17:38.575581",
     "exception": false,
     "start_time": "2025-05-22T12:17:20.694458",
     "status": "completed"
    },
    "tags": []
   },
   "outputs": [
    {
     "name": "stderr",
     "output_type": "stream",
     "text": [
      "/usr/local/lib/python3.11/dist-packages/albumentations/__init__.py:28: UserWarning: A new version of Albumentations is available: '2.0.7' (you have '2.0.5'). Upgrade using: pip install -U albumentations. To disable automatic update checks, set the environment variable NO_ALBUMENTATIONS_UPDATE to 1.\n",
      "  check_for_updates()\n"
     ]
    }
   ],
   "source": [
    "import os\n",
    "import math\n",
    "import time\n",
    "import random\n",
    "import shutil\n",
    "from pathlib import Path\n",
    "from contextlib import contextmanager\n",
    "from collections import defaultdict, Counter\n",
    "\n",
    "import scipy as sp\n",
    "import numpy as np\n",
    "import pandas as pd\n",
    "\n",
    "from sklearn import preprocessing\n",
    "from sklearn.metrics import accuracy_score\n",
    "from sklearn.model_selection import StratifiedKFold\n",
    "\n",
    "from tqdm.auto import tqdm\n",
    "from functools import partial\n",
    "\n",
    "import cv2\n",
    "from PIL import Image\n",
    "\n",
    "import torch\n",
    "import torch.nn as nn\n",
    "import torch.nn.functional as F\n",
    "from torch.optim import Adam, SGD\n",
    "import torchvision.models as models\n",
    "from torch.nn.parameter import Parameter\n",
    "from torch.utils.data import DataLoader, Dataset\n",
    "from torch.optim.lr_scheduler import CosineAnnealingWarmRestarts, CosineAnnealingLR, ReduceLROnPlateau\n",
    "\n",
    "from albumentations import *\n",
    "from albumentations.pytorch import ToTensorV2\n",
    "from albumentations import ImageOnlyTransform\n",
    "\n",
    "import timm\n",
    "\n",
    "import warnings \n",
    "warnings.filterwarnings('ignore')\n",
    "\n",
    "device = torch.device('cuda' if torch.cuda.is_available() else 'cpu')"
   ]
  },
  {
   "cell_type": "code",
   "execution_count": 5,
   "id": "610f8665",
   "metadata": {
    "execution": {
     "iopub.execute_input": "2025-05-22T12:17:38.623445Z",
     "iopub.status.busy": "2025-05-22T12:17:38.623007Z",
     "iopub.status.idle": "2025-05-22T12:17:38.635564Z",
     "shell.execute_reply": "2025-05-22T12:17:38.634875Z"
    },
    "papermill": {
     "duration": 0.03729,
     "end_time": "2025-05-22T12:17:38.636743",
     "exception": false,
     "start_time": "2025-05-22T12:17:38.599453",
     "status": "completed"
    },
    "tags": []
   },
   "outputs": [],
   "source": [
    "# ====================================================\n",
    "# Utils\n",
    "# ====================================================\n",
    "def get_score(y_true, y_pred):\n",
    "    return f1_score(y_true, y_pred,average='weighted')\n",
    "\n",
    "\n",
    "@contextmanager\n",
    "def timer(name):\n",
    "    t0 = time.time()\n",
    "    LOGGER.info(f'[{name}] start')\n",
    "    yield\n",
    "    LOGGER.info(f'[{name}] done in {time.time() - t0:.0f} s.')\n",
    "\n",
    "\n",
    "def init_logger(log_file=OUTPUT_DIR+'train.log'):\n",
    "    from logging import getLogger, INFO, FileHandler,  Formatter,  StreamHandler\n",
    "    logger = getLogger(__name__)\n",
    "    logger.setLevel(INFO)\n",
    "    handler1 = StreamHandler()\n",
    "    handler1.setFormatter(Formatter(\"%(message)s\"))\n",
    "    handler2 = FileHandler(filename=log_file)\n",
    "    handler2.setFormatter(Formatter(\"%(message)s\"))\n",
    "    logger.addHandler(handler1)\n",
    "    logger.addHandler(handler2)\n",
    "    return logger\n",
    "\n",
    "LOGGER = init_logger()\n",
    "\n",
    "\n",
    "def seed_torch(seed=42):\n",
    "    random.seed(seed)\n",
    "    os.environ['PYTHONHASHSEED'] = str(seed)\n",
    "    np.random.seed(seed)\n",
    "    torch.manual_seed(seed)\n",
    "    torch.cuda.manual_seed(seed)\n",
    "    torch.backends.cudnn.deterministic = True\n",
    "\n",
    "seed_torch(seed=CFG.seed)"
   ]
  },
  {
   "cell_type": "code",
   "execution_count": 6,
   "id": "09323933",
   "metadata": {
    "execution": {
     "iopub.execute_input": "2025-05-22T12:17:38.683350Z",
     "iopub.status.busy": "2025-05-22T12:17:38.683113Z",
     "iopub.status.idle": "2025-05-22T12:17:38.696336Z",
     "shell.execute_reply": "2025-05-22T12:17:38.695518Z"
    },
    "papermill": {
     "duration": 0.03774,
     "end_time": "2025-05-22T12:17:38.697457",
     "exception": false,
     "start_time": "2025-05-22T12:17:38.659717",
     "status": "completed"
    },
    "tags": []
   },
   "outputs": [
    {
     "name": "stdout",
     "output_type": "stream",
     "text": [
      "341\n",
      "['img_0f035b97.jpg', 'img_f13af256.jpg', 'img_15b41dbc.jpg', 'img_cfb4fc7a.jpg']\n"
     ]
    }
   ],
   "source": [
    "test_files = os.listdir(TEST_PATH)\n",
    "print(len(test_files))\n",
    "print(test_files[:4])"
   ]
  },
  {
   "cell_type": "code",
   "execution_count": 7,
   "id": "a282d21e",
   "metadata": {
    "execution": {
     "iopub.execute_input": "2025-05-22T12:17:38.743183Z",
     "iopub.status.busy": "2025-05-22T12:17:38.742957Z",
     "iopub.status.idle": "2025-05-22T12:17:38.770429Z",
     "shell.execute_reply": "2025-05-22T12:17:38.769796Z"
    },
    "papermill": {
     "duration": 0.051339,
     "end_time": "2025-05-22T12:17:38.771640",
     "exception": false,
     "start_time": "2025-05-22T12:17:38.720301",
     "status": "completed"
    },
    "tags": []
   },
   "outputs": [
    {
     "data": {
      "text/html": [
       "<div>\n",
       "<style scoped>\n",
       "    .dataframe tbody tr th:only-of-type {\n",
       "        vertical-align: middle;\n",
       "    }\n",
       "\n",
       "    .dataframe tbody tr th {\n",
       "        vertical-align: top;\n",
       "    }\n",
       "\n",
       "    .dataframe thead th {\n",
       "        text-align: right;\n",
       "    }\n",
       "</style>\n",
       "<table border=\"1\" class=\"dataframe\">\n",
       "  <thead>\n",
       "    <tr style=\"text-align: right;\">\n",
       "      <th></th>\n",
       "      <th>image_id</th>\n",
       "    </tr>\n",
       "  </thead>\n",
       "  <tbody>\n",
       "    <tr>\n",
       "      <th>0</th>\n",
       "      <td>img_0f035b97.jpg</td>\n",
       "    </tr>\n",
       "    <tr>\n",
       "      <th>1</th>\n",
       "      <td>img_f13af256.jpg</td>\n",
       "    </tr>\n",
       "    <tr>\n",
       "      <th>2</th>\n",
       "      <td>img_15b41dbc.jpg</td>\n",
       "    </tr>\n",
       "    <tr>\n",
       "      <th>3</th>\n",
       "      <td>img_cfb4fc7a.jpg</td>\n",
       "    </tr>\n",
       "    <tr>\n",
       "      <th>4</th>\n",
       "      <td>img_683111fb.jpg</td>\n",
       "    </tr>\n",
       "  </tbody>\n",
       "</table>\n",
       "</div>"
      ],
      "text/plain": [
       "           image_id\n",
       "0  img_0f035b97.jpg\n",
       "1  img_f13af256.jpg\n",
       "2  img_15b41dbc.jpg\n",
       "3  img_cfb4fc7a.jpg\n",
       "4  img_683111fb.jpg"
      ]
     },
     "execution_count": 7,
     "metadata": {},
     "output_type": "execute_result"
    }
   ],
   "source": [
    "test = pd.DataFrame()\n",
    "test[\"image_id\"] = test_files\n",
    "test.head()"
   ]
  },
  {
   "cell_type": "code",
   "execution_count": 8,
   "id": "392d2838",
   "metadata": {
    "execution": {
     "iopub.execute_input": "2025-05-22T12:17:38.869742Z",
     "iopub.status.busy": "2025-05-22T12:17:38.869098Z",
     "iopub.status.idle": "2025-05-22T12:17:38.874262Z",
     "shell.execute_reply": "2025-05-22T12:17:38.873759Z"
    },
    "papermill": {
     "duration": 0.078865,
     "end_time": "2025-05-22T12:17:38.875321",
     "exception": false,
     "start_time": "2025-05-22T12:17:38.796456",
     "status": "completed"
    },
    "tags": []
   },
   "outputs": [],
   "source": [
    "# Dataset\n",
    "# ====================================================\n",
    "class TestDataset(Dataset):\n",
    "    def __init__(self, df, transform=None):\n",
    "        self.df = df\n",
    "        self.file_names = df['image_id'].values\n",
    "        self.transform = transform\n",
    "        \n",
    "    def __len__(self):\n",
    "        return len(self.df)\n",
    "\n",
    "    def __getitem__(self, idx):\n",
    "        file_name = self.file_names[idx]\n",
    "        file_path = f'{TEST_PATH}/{file_name}'\n",
    "        image = cv2.imread(file_path)\n",
    "        image = cv2.cvtColor(image, cv2.COLOR_BGR2RGB)\n",
    "        if self.transform:\n",
    "            augmented = self.transform(image=image)\n",
    "            image = augmented['image']\n",
    "        return image"
   ]
  },
  {
   "cell_type": "code",
   "execution_count": 9,
   "id": "b55963e4",
   "metadata": {
    "execution": {
     "iopub.execute_input": "2025-05-22T12:17:38.922093Z",
     "iopub.status.busy": "2025-05-22T12:17:38.921563Z",
     "iopub.status.idle": "2025-05-22T12:17:38.926255Z",
     "shell.execute_reply": "2025-05-22T12:17:38.925767Z"
    },
    "papermill": {
     "duration": 0.029138,
     "end_time": "2025-05-22T12:17:38.927231",
     "exception": false,
     "start_time": "2025-05-22T12:17:38.898093",
     "status": "completed"
    },
    "tags": []
   },
   "outputs": [],
   "source": [
    "# ====================================================\n",
    "# Transforms\n",
    "# ====================================================\n",
    "def get_transforms(*, data):\n",
    "    \n",
    "    if data == 'train':\n",
    "        return Compose([\n",
    "            #Resize(CFG.size, CFG.size),\n",
    "            RandomResizedCrop(CFG.size, CFG.size),\n",
    "            Transpose(p=0.5),\n",
    "            HorizontalFlip(p=0.5),\n",
    "            VerticalFlip(p=0.5),\n",
    "            ShiftScaleRotate(p=0.5),\n",
    "            Normalize(\n",
    "                mean=[0.485, 0.456, 0.406],\n",
    "                std=[0.229, 0.224, 0.225],\n",
    "            ),\n",
    "            ToTensorV2(),\n",
    "        ])\n",
    "\n",
    "    elif data == 'valid':\n",
    "        return Compose([\n",
    "            Resize(CFG.size, CFG.size),\n",
    "            Normalize(\n",
    "                mean=[0.485, 0.456, 0.406],\n",
    "                std=[0.229, 0.224, 0.225],\n",
    "            ),\n",
    "            ToTensorV2(),\n",
    "        ])"
   ]
  },
  {
   "cell_type": "code",
   "execution_count": 10,
   "id": "5da62a24",
   "metadata": {
    "execution": {
     "iopub.execute_input": "2025-05-22T12:17:38.974401Z",
     "iopub.status.busy": "2025-05-22T12:17:38.973687Z",
     "iopub.status.idle": "2025-05-22T12:17:38.978217Z",
     "shell.execute_reply": "2025-05-22T12:17:38.977559Z"
    },
    "papermill": {
     "duration": 0.029261,
     "end_time": "2025-05-22T12:17:38.979389",
     "exception": false,
     "start_time": "2025-05-22T12:17:38.950128",
     "status": "completed"
    },
    "tags": []
   },
   "outputs": [],
   "source": [
    "# ====================================================\n",
    "# MODEL\n",
    "# ====================================================\n",
    "class CustomResNext(nn.Module):\n",
    "    def __init__(self, model_name='resnext50_32x4d', pretrained=False):\n",
    "        super().__init__()\n",
    "        self.model = timm.create_model(model_name, pretrained=pretrained, num_classes=CFG.target_size)\n",
    "\n",
    "    def forward(self, x):\n",
    "        x = self.model(x)\n",
    "        return x"
   ]
  },
  {
   "cell_type": "code",
   "execution_count": 11,
   "id": "204fb8a0",
   "metadata": {
    "execution": {
     "iopub.execute_input": "2025-05-22T12:17:39.025585Z",
     "iopub.status.busy": "2025-05-22T12:17:39.025134Z",
     "iopub.status.idle": "2025-05-22T12:17:39.029258Z",
     "shell.execute_reply": "2025-05-22T12:17:39.028781Z"
    },
    "papermill": {
     "duration": 0.028266,
     "end_time": "2025-05-22T12:17:39.030265",
     "exception": false,
     "start_time": "2025-05-22T12:17:39.001999",
     "status": "completed"
    },
    "tags": []
   },
   "outputs": [],
   "source": [
    "    \n",
    "class CustomEfficientNet(nn.Module):\n",
    "    def __init__(self, model_name=CFG.model_name, pretrained=False):\n",
    "        super().__init__()\n",
    "        self.model = timm.create_model(CFG.model_name, pretrained=pretrained)\n",
    "        n_features = self.model.classifier.in_features\n",
    "        self.model.classifier = nn.Linear(n_features, CFG.target_size)\n",
    "\n",
    "    def forward(self, x):\n",
    "        x = self.model(x)\n",
    "        return x"
   ]
  },
  {
   "cell_type": "code",
   "execution_count": 12,
   "id": "36799f8d",
   "metadata": {
    "execution": {
     "iopub.execute_input": "2025-05-22T12:17:39.076843Z",
     "iopub.status.busy": "2025-05-22T12:17:39.076423Z",
     "iopub.status.idle": "2025-05-22T12:17:39.081244Z",
     "shell.execute_reply": "2025-05-22T12:17:39.080757Z"
    },
    "papermill": {
     "duration": 0.02918,
     "end_time": "2025-05-22T12:17:39.082307",
     "exception": false,
     "start_time": "2025-05-22T12:17:39.053127",
     "status": "completed"
    },
    "tags": []
   },
   "outputs": [],
   "source": [
    "# ====================================================\n",
    "# Helper functions\n",
    "# ====================================================\n",
    "def inference(model, states, test_loader, device):\n",
    "    model.to(device)\n",
    "    tk0 = tqdm(enumerate(test_loader), total=len(test_loader))\n",
    "    probs = []\n",
    "    for i, (images) in tk0:\n",
    "        images = images.to(device)\n",
    "        avg_preds = []\n",
    "        for state in states:\n",
    "            model.load_state_dict(state['model'])\n",
    "            model.eval()\n",
    "            with torch.no_grad():\n",
    "                y_preds = model(images)\n",
    "            avg_preds.append(y_preds.softmax(1).to('cpu').numpy())\n",
    "        avg_preds = np.mean(avg_preds, axis=0)\n",
    "        probs.append(avg_preds)\n",
    "    probs = np.concatenate(probs)\n",
    "    return probs\n"
   ]
  },
  {
   "cell_type": "code",
   "execution_count": 13,
   "id": "b036972f",
   "metadata": {
    "execution": {
     "iopub.execute_input": "2025-05-22T12:17:39.129387Z",
     "iopub.status.busy": "2025-05-22T12:17:39.128916Z",
     "iopub.status.idle": "2025-05-22T12:18:15.383505Z",
     "shell.execute_reply": "2025-05-22T12:18:15.382788Z"
    },
    "papermill": {
     "duration": 36.279233,
     "end_time": "2025-05-22T12:18:15.384848",
     "exception": false,
     "start_time": "2025-05-22T12:17:39.105615",
     "status": "completed"
    },
    "tags": []
   },
   "outputs": [
    {
     "data": {
      "application/vnd.jupyter.widget-view+json": {
       "model_id": "349eadb25a554eee856692c3c7d8ad52",
       "version_major": 2,
       "version_minor": 0
      },
      "text/plain": [
       "  0%|          | 0/22 [00:00<?, ?it/s]"
      ]
     },
     "metadata": {},
     "output_type": "display_data"
    },
    {
     "data": {
      "text/html": [
       "<div>\n",
       "<style scoped>\n",
       "    .dataframe tbody tr th:only-of-type {\n",
       "        vertical-align: middle;\n",
       "    }\n",
       "\n",
       "    .dataframe tbody tr th {\n",
       "        vertical-align: top;\n",
       "    }\n",
       "\n",
       "    .dataframe thead th {\n",
       "        text-align: right;\n",
       "    }\n",
       "</style>\n",
       "<table border=\"1\" class=\"dataframe\">\n",
       "  <thead>\n",
       "    <tr style=\"text-align: right;\">\n",
       "      <th></th>\n",
       "      <th>image_id</th>\n",
       "      <th>soil_type</th>\n",
       "    </tr>\n",
       "  </thead>\n",
       "  <tbody>\n",
       "    <tr>\n",
       "      <th>0</th>\n",
       "      <td>img_0f035b97.jpg</td>\n",
       "      <td>2</td>\n",
       "    </tr>\n",
       "    <tr>\n",
       "      <th>1</th>\n",
       "      <td>img_f13af256.jpg</td>\n",
       "      <td>2</td>\n",
       "    </tr>\n",
       "    <tr>\n",
       "      <th>2</th>\n",
       "      <td>img_15b41dbc.jpg</td>\n",
       "      <td>0</td>\n",
       "    </tr>\n",
       "    <tr>\n",
       "      <th>3</th>\n",
       "      <td>img_cfb4fc7a.jpg</td>\n",
       "      <td>1</td>\n",
       "    </tr>\n",
       "    <tr>\n",
       "      <th>4</th>\n",
       "      <td>img_683111fb.jpg</td>\n",
       "      <td>1</td>\n",
       "    </tr>\n",
       "  </tbody>\n",
       "</table>\n",
       "</div>"
      ],
      "text/plain": [
       "           image_id  soil_type\n",
       "0  img_0f035b97.jpg          2\n",
       "1  img_f13af256.jpg          2\n",
       "2  img_15b41dbc.jpg          0\n",
       "3  img_cfb4fc7a.jpg          1\n",
       "4  img_683111fb.jpg          1"
      ]
     },
     "execution_count": 13,
     "metadata": {},
     "output_type": "execute_result"
    }
   ],
   "source": [
    "model = CustomEfficientNet(CFG.model_name, pretrained=False)\n",
    "states = [torch.load(MODEL_DIR+f'{CFG.model_name}_fold{fold}_best.pth',weights_only = False) for fold in CFG.trn_fold]\n",
    "test_dataset = TestDataset(test, transform=get_transforms(data='valid'))\n",
    "test_loader = DataLoader(test_dataset, batch_size=CFG.batch_size, shuffle=False, \n",
    "                         num_workers=CFG.num_workers, pin_memory=True)\n",
    "predictions = inference(model, states, test_loader, device)\n",
    "# submission\n",
    "test['soil_type'] = predictions.argmax(1)\n",
    "test.head()"
   ]
  },
  {
   "cell_type": "code",
   "execution_count": 14,
   "id": "a3807675",
   "metadata": {
    "execution": {
     "iopub.execute_input": "2025-05-22T12:18:15.432831Z",
     "iopub.status.busy": "2025-05-22T12:18:15.432567Z",
     "iopub.status.idle": "2025-05-22T12:18:15.440718Z",
     "shell.execute_reply": "2025-05-22T12:18:15.440036Z"
    },
    "papermill": {
     "duration": 0.033289,
     "end_time": "2025-05-22T12:18:15.441817",
     "exception": false,
     "start_time": "2025-05-22T12:18:15.408528",
     "status": "completed"
    },
    "tags": []
   },
   "outputs": [
    {
     "data": {
      "text/plain": [
       "array([2, 0, 1, 3])"
      ]
     },
     "execution_count": 14,
     "metadata": {},
     "output_type": "execute_result"
    }
   ],
   "source": [
    "test[\"soil_type\"].unique()"
   ]
  },
  {
   "cell_type": "code",
   "execution_count": 15,
   "id": "d7127a14",
   "metadata": {
    "execution": {
     "iopub.execute_input": "2025-05-22T12:18:15.491275Z",
     "iopub.status.busy": "2025-05-22T12:18:15.491057Z",
     "iopub.status.idle": "2025-05-22T12:18:15.494396Z",
     "shell.execute_reply": "2025-05-22T12:18:15.493689Z"
    },
    "papermill": {
     "duration": 0.028101,
     "end_time": "2025-05-22T12:18:15.495447",
     "exception": false,
     "start_time": "2025-05-22T12:18:15.467346",
     "status": "completed"
    },
    "tags": []
   },
   "outputs": [],
   "source": [
    "import pandas as pd\n",
    "from sklearn.preprocessing import LabelEncoder"
   ]
  },
  {
   "cell_type": "code",
   "execution_count": 16,
   "id": "cf745d03",
   "metadata": {
    "execution": {
     "iopub.execute_input": "2025-05-22T12:18:15.543073Z",
     "iopub.status.busy": "2025-05-22T12:18:15.542852Z",
     "iopub.status.idle": "2025-05-22T12:18:15.559993Z",
     "shell.execute_reply": "2025-05-22T12:18:15.559416Z"
    },
    "papermill": {
     "duration": 0.041901,
     "end_time": "2025-05-22T12:18:15.561015",
     "exception": false,
     "start_time": "2025-05-22T12:18:15.519114",
     "status": "completed"
    },
    "tags": []
   },
   "outputs": [
    {
     "data": {
      "text/html": [
       "<div>\n",
       "<style scoped>\n",
       "    .dataframe tbody tr th:only-of-type {\n",
       "        vertical-align: middle;\n",
       "    }\n",
       "\n",
       "    .dataframe tbody tr th {\n",
       "        vertical-align: top;\n",
       "    }\n",
       "\n",
       "    .dataframe thead th {\n",
       "        text-align: right;\n",
       "    }\n",
       "</style>\n",
       "<table border=\"1\" class=\"dataframe\">\n",
       "  <thead>\n",
       "    <tr style=\"text-align: right;\">\n",
       "      <th></th>\n",
       "      <th>image_id</th>\n",
       "      <th>soil_type</th>\n",
       "    </tr>\n",
       "  </thead>\n",
       "  <tbody>\n",
       "    <tr>\n",
       "      <th>0</th>\n",
       "      <td>img_ed005410.jpg</td>\n",
       "      <td>Alluvial soil</td>\n",
       "    </tr>\n",
       "    <tr>\n",
       "      <th>1</th>\n",
       "      <td>img_0c5ecd2a.jpg</td>\n",
       "      <td>Alluvial soil</td>\n",
       "    </tr>\n",
       "    <tr>\n",
       "      <th>2</th>\n",
       "      <td>img_ed713bb5.jpg</td>\n",
       "      <td>Alluvial soil</td>\n",
       "    </tr>\n",
       "    <tr>\n",
       "      <th>3</th>\n",
       "      <td>img_12c58874.jpg</td>\n",
       "      <td>Alluvial soil</td>\n",
       "    </tr>\n",
       "    <tr>\n",
       "      <th>4</th>\n",
       "      <td>img_eff357af.jpg</td>\n",
       "      <td>Alluvial soil</td>\n",
       "    </tr>\n",
       "  </tbody>\n",
       "</table>\n",
       "</div>"
      ],
      "text/plain": [
       "           image_id      soil_type\n",
       "0  img_ed005410.jpg  Alluvial soil\n",
       "1  img_0c5ecd2a.jpg  Alluvial soil\n",
       "2  img_ed713bb5.jpg  Alluvial soil\n",
       "3  img_12c58874.jpg  Alluvial soil\n",
       "4  img_eff357af.jpg  Alluvial soil"
      ]
     },
     "metadata": {},
     "output_type": "display_data"
    }
   ],
   "source": [
    "train = pd.read_csv('/kaggle/input/soil-classification/soil_classification-2025/train_labels.csv')\n",
    "\n",
    "display(train.head())"
   ]
  },
  {
   "cell_type": "code",
   "execution_count": 17,
   "id": "37682999",
   "metadata": {
    "execution": {
     "iopub.execute_input": "2025-05-22T12:18:15.608143Z",
     "iopub.status.busy": "2025-05-22T12:18:15.607925Z",
     "iopub.status.idle": "2025-05-22T12:18:15.612351Z",
     "shell.execute_reply": "2025-05-22T12:18:15.611840Z"
    },
    "papermill": {
     "duration": 0.029349,
     "end_time": "2025-05-22T12:18:15.613327",
     "exception": false,
     "start_time": "2025-05-22T12:18:15.583978",
     "status": "completed"
    },
    "tags": []
   },
   "outputs": [],
   "source": [
    "le = LabelEncoder()\n",
    "train[\"label_encoded\"] = le.fit_transform(train[\"soil_type\"])"
   ]
  },
  {
   "cell_type": "code",
   "execution_count": 18,
   "id": "fa0109be",
   "metadata": {
    "execution": {
     "iopub.execute_input": "2025-05-22T12:18:15.659869Z",
     "iopub.status.busy": "2025-05-22T12:18:15.659481Z",
     "iopub.status.idle": "2025-05-22T12:18:15.663235Z",
     "shell.execute_reply": "2025-05-22T12:18:15.662707Z"
    },
    "papermill": {
     "duration": 0.028284,
     "end_time": "2025-05-22T12:18:15.664285",
     "exception": false,
     "start_time": "2025-05-22T12:18:15.636001",
     "status": "completed"
    },
    "tags": []
   },
   "outputs": [],
   "source": [
    "train[\"label\"] = train[\"soil_type\"]"
   ]
  },
  {
   "cell_type": "code",
   "execution_count": 19,
   "id": "d140c964",
   "metadata": {
    "execution": {
     "iopub.execute_input": "2025-05-22T12:18:15.710373Z",
     "iopub.status.busy": "2025-05-22T12:18:15.710174Z",
     "iopub.status.idle": "2025-05-22T12:18:15.713611Z",
     "shell.execute_reply": "2025-05-22T12:18:15.712935Z"
    },
    "papermill": {
     "duration": 0.02802,
     "end_time": "2025-05-22T12:18:15.714836",
     "exception": false,
     "start_time": "2025-05-22T12:18:15.686816",
     "status": "completed"
    },
    "tags": []
   },
   "outputs": [],
   "source": [
    "cols = [\"label_encoded\",\"label\"]"
   ]
  },
  {
   "cell_type": "code",
   "execution_count": 20,
   "id": "1d2a96a6",
   "metadata": {
    "execution": {
     "iopub.execute_input": "2025-05-22T12:18:15.760684Z",
     "iopub.status.busy": "2025-05-22T12:18:15.760480Z",
     "iopub.status.idle": "2025-05-22T12:18:15.773279Z",
     "shell.execute_reply": "2025-05-22T12:18:15.772515Z"
    },
    "papermill": {
     "duration": 0.036873,
     "end_time": "2025-05-22T12:18:15.774375",
     "exception": false,
     "start_time": "2025-05-22T12:18:15.737502",
     "status": "completed"
    },
    "tags": []
   },
   "outputs": [],
   "source": [
    "df=train[cols].value_counts()"
   ]
  },
  {
   "cell_type": "code",
   "execution_count": 21,
   "id": "af5a02d0",
   "metadata": {
    "execution": {
     "iopub.execute_input": "2025-05-22T12:18:15.820968Z",
     "iopub.status.busy": "2025-05-22T12:18:15.820715Z",
     "iopub.status.idle": "2025-05-22T12:18:15.824341Z",
     "shell.execute_reply": "2025-05-22T12:18:15.823607Z"
    },
    "papermill": {
     "duration": 0.027965,
     "end_time": "2025-05-22T12:18:15.825392",
     "exception": false,
     "start_time": "2025-05-22T12:18:15.797427",
     "status": "completed"
    },
    "tags": []
   },
   "outputs": [],
   "source": [
    "df = pd.DataFrame(df)"
   ]
  },
  {
   "cell_type": "code",
   "execution_count": 22,
   "id": "dd873e30",
   "metadata": {
    "execution": {
     "iopub.execute_input": "2025-05-22T12:18:15.871707Z",
     "iopub.status.busy": "2025-05-22T12:18:15.871483Z",
     "iopub.status.idle": "2025-05-22T12:18:15.876578Z",
     "shell.execute_reply": "2025-05-22T12:18:15.875846Z"
    },
    "papermill": {
     "duration": 0.029696,
     "end_time": "2025-05-22T12:18:15.877646",
     "exception": false,
     "start_time": "2025-05-22T12:18:15.847950",
     "status": "completed"
    },
    "tags": []
   },
   "outputs": [],
   "source": [
    "df_master = df.reset_index()"
   ]
  },
  {
   "cell_type": "code",
   "execution_count": 23,
   "id": "867d7bde",
   "metadata": {
    "execution": {
     "iopub.execute_input": "2025-05-22T12:18:15.924096Z",
     "iopub.status.busy": "2025-05-22T12:18:15.923828Z",
     "iopub.status.idle": "2025-05-22T12:18:15.931162Z",
     "shell.execute_reply": "2025-05-22T12:18:15.930435Z"
    },
    "papermill": {
     "duration": 0.031854,
     "end_time": "2025-05-22T12:18:15.932244",
     "exception": false,
     "start_time": "2025-05-22T12:18:15.900390",
     "status": "completed"
    },
    "tags": []
   },
   "outputs": [
    {
     "data": {
      "text/html": [
       "<div>\n",
       "<style scoped>\n",
       "    .dataframe tbody tr th:only-of-type {\n",
       "        vertical-align: middle;\n",
       "    }\n",
       "\n",
       "    .dataframe tbody tr th {\n",
       "        vertical-align: top;\n",
       "    }\n",
       "\n",
       "    .dataframe thead th {\n",
       "        text-align: right;\n",
       "    }\n",
       "</style>\n",
       "<table border=\"1\" class=\"dataframe\">\n",
       "  <thead>\n",
       "    <tr style=\"text-align: right;\">\n",
       "      <th></th>\n",
       "      <th>label_encoded</th>\n",
       "      <th>label</th>\n",
       "    </tr>\n",
       "  </thead>\n",
       "  <tbody>\n",
       "    <tr>\n",
       "      <th>0</th>\n",
       "      <td>0</td>\n",
       "      <td>Alluvial soil</td>\n",
       "    </tr>\n",
       "    <tr>\n",
       "      <th>1</th>\n",
       "      <td>3</td>\n",
       "      <td>Red soil</td>\n",
       "    </tr>\n",
       "    <tr>\n",
       "      <th>2</th>\n",
       "      <td>1</td>\n",
       "      <td>Black Soil</td>\n",
       "    </tr>\n",
       "    <tr>\n",
       "      <th>3</th>\n",
       "      <td>2</td>\n",
       "      <td>Clay soil</td>\n",
       "    </tr>\n",
       "  </tbody>\n",
       "</table>\n",
       "</div>"
      ],
      "text/plain": [
       "   label_encoded          label\n",
       "0              0  Alluvial soil\n",
       "1              3       Red soil\n",
       "2              1     Black Soil\n",
       "3              2      Clay soil"
      ]
     },
     "execution_count": 23,
     "metadata": {},
     "output_type": "execute_result"
    }
   ],
   "source": [
    "df_master[cols]"
   ]
  },
  {
   "cell_type": "code",
   "execution_count": 24,
   "id": "9bafea07",
   "metadata": {
    "execution": {
     "iopub.execute_input": "2025-05-22T12:18:15.979985Z",
     "iopub.status.busy": "2025-05-22T12:18:15.979333Z",
     "iopub.status.idle": "2025-05-22T12:18:15.986946Z",
     "shell.execute_reply": "2025-05-22T12:18:15.986204Z"
    },
    "papermill": {
     "duration": 0.032291,
     "end_time": "2025-05-22T12:18:15.988037",
     "exception": false,
     "start_time": "2025-05-22T12:18:15.955746",
     "status": "completed"
    },
    "tags": []
   },
   "outputs": [
    {
     "data": {
      "text/html": [
       "<div>\n",
       "<style scoped>\n",
       "    .dataframe tbody tr th:only-of-type {\n",
       "        vertical-align: middle;\n",
       "    }\n",
       "\n",
       "    .dataframe tbody tr th {\n",
       "        vertical-align: top;\n",
       "    }\n",
       "\n",
       "    .dataframe thead th {\n",
       "        text-align: right;\n",
       "    }\n",
       "</style>\n",
       "<table border=\"1\" class=\"dataframe\">\n",
       "  <thead>\n",
       "    <tr style=\"text-align: right;\">\n",
       "      <th></th>\n",
       "      <th>image_id</th>\n",
       "      <th>soil_type</th>\n",
       "    </tr>\n",
       "  </thead>\n",
       "  <tbody>\n",
       "    <tr>\n",
       "      <th>0</th>\n",
       "      <td>img_0f035b97.jpg</td>\n",
       "      <td>2</td>\n",
       "    </tr>\n",
       "    <tr>\n",
       "      <th>1</th>\n",
       "      <td>img_f13af256.jpg</td>\n",
       "      <td>2</td>\n",
       "    </tr>\n",
       "    <tr>\n",
       "      <th>2</th>\n",
       "      <td>img_15b41dbc.jpg</td>\n",
       "      <td>0</td>\n",
       "    </tr>\n",
       "    <tr>\n",
       "      <th>3</th>\n",
       "      <td>img_cfb4fc7a.jpg</td>\n",
       "      <td>1</td>\n",
       "    </tr>\n",
       "    <tr>\n",
       "      <th>4</th>\n",
       "      <td>img_683111fb.jpg</td>\n",
       "      <td>1</td>\n",
       "    </tr>\n",
       "    <tr>\n",
       "      <th>...</th>\n",
       "      <td>...</td>\n",
       "      <td>...</td>\n",
       "    </tr>\n",
       "    <tr>\n",
       "      <th>336</th>\n",
       "      <td>img_ab698e86.jpg</td>\n",
       "      <td>2</td>\n",
       "    </tr>\n",
       "    <tr>\n",
       "      <th>337</th>\n",
       "      <td>img_d3c1f03b.jpg</td>\n",
       "      <td>1</td>\n",
       "    </tr>\n",
       "    <tr>\n",
       "      <th>338</th>\n",
       "      <td>img_0225b7de.jpg</td>\n",
       "      <td>0</td>\n",
       "    </tr>\n",
       "    <tr>\n",
       "      <th>339</th>\n",
       "      <td>img_2a1fe606.jpg</td>\n",
       "      <td>0</td>\n",
       "    </tr>\n",
       "    <tr>\n",
       "      <th>340</th>\n",
       "      <td>img_e0dba41e.jpg</td>\n",
       "      <td>1</td>\n",
       "    </tr>\n",
       "  </tbody>\n",
       "</table>\n",
       "<p>341 rows × 2 columns</p>\n",
       "</div>"
      ],
      "text/plain": [
       "             image_id  soil_type\n",
       "0    img_0f035b97.jpg          2\n",
       "1    img_f13af256.jpg          2\n",
       "2    img_15b41dbc.jpg          0\n",
       "3    img_cfb4fc7a.jpg          1\n",
       "4    img_683111fb.jpg          1\n",
       "..                ...        ...\n",
       "336  img_ab698e86.jpg          2\n",
       "337  img_d3c1f03b.jpg          1\n",
       "338  img_0225b7de.jpg          0\n",
       "339  img_2a1fe606.jpg          0\n",
       "340  img_e0dba41e.jpg          1\n",
       "\n",
       "[341 rows x 2 columns]"
      ]
     },
     "execution_count": 24,
     "metadata": {},
     "output_type": "execute_result"
    }
   ],
   "source": [
    "test"
   ]
  },
  {
   "cell_type": "code",
   "execution_count": 25,
   "id": "7844c69f",
   "metadata": {
    "execution": {
     "iopub.execute_input": "2025-05-22T12:18:16.035190Z",
     "iopub.status.busy": "2025-05-22T12:18:16.034932Z",
     "iopub.status.idle": "2025-05-22T12:18:16.045884Z",
     "shell.execute_reply": "2025-05-22T12:18:16.045144Z"
    },
    "papermill": {
     "duration": 0.035821,
     "end_time": "2025-05-22T12:18:16.046986",
     "exception": false,
     "start_time": "2025-05-22T12:18:16.011165",
     "status": "completed"
    },
    "tags": []
   },
   "outputs": [],
   "source": [
    "import pandas as pd\n",
    "sub = pd.merge(test, df_master, left_on='soil_type', right_on='label_encoded', how='inner')"
   ]
  },
  {
   "cell_type": "code",
   "execution_count": 26,
   "id": "317e26e3",
   "metadata": {
    "execution": {
     "iopub.execute_input": "2025-05-22T12:18:16.094952Z",
     "iopub.status.busy": "2025-05-22T12:18:16.094665Z",
     "iopub.status.idle": "2025-05-22T12:18:16.098260Z",
     "shell.execute_reply": "2025-05-22T12:18:16.097779Z"
    },
    "papermill": {
     "duration": 0.028727,
     "end_time": "2025-05-22T12:18:16.099338",
     "exception": false,
     "start_time": "2025-05-22T12:18:16.070611",
     "status": "completed"
    },
    "tags": []
   },
   "outputs": [],
   "source": [
    "df_sub = pd.DataFrame()"
   ]
  },
  {
   "cell_type": "code",
   "execution_count": 27,
   "id": "53c4872d",
   "metadata": {
    "execution": {
     "iopub.execute_input": "2025-05-22T12:18:16.147152Z",
     "iopub.status.busy": "2025-05-22T12:18:16.146942Z",
     "iopub.status.idle": "2025-05-22T12:18:16.152209Z",
     "shell.execute_reply": "2025-05-22T12:18:16.151479Z"
    },
    "papermill": {
     "duration": 0.030807,
     "end_time": "2025-05-22T12:18:16.153358",
     "exception": false,
     "start_time": "2025-05-22T12:18:16.122551",
     "status": "completed"
    },
    "tags": []
   },
   "outputs": [],
   "source": [
    "df_sub[\"image_id\"] = sub[\"image_id\"]\n",
    "df_sub[\"soil_type\"] = sub[\"label\"]"
   ]
  },
  {
   "cell_type": "code",
   "execution_count": 28,
   "id": "a86b5807",
   "metadata": {
    "execution": {
     "iopub.execute_input": "2025-05-22T12:18:16.202440Z",
     "iopub.status.busy": "2025-05-22T12:18:16.202228Z",
     "iopub.status.idle": "2025-05-22T12:18:16.209401Z",
     "shell.execute_reply": "2025-05-22T12:18:16.208770Z"
    },
    "papermill": {
     "duration": 0.033882,
     "end_time": "2025-05-22T12:18:16.210504",
     "exception": false,
     "start_time": "2025-05-22T12:18:16.176622",
     "status": "completed"
    },
    "tags": []
   },
   "outputs": [
    {
     "data": {
      "text/html": [
       "<div>\n",
       "<style scoped>\n",
       "    .dataframe tbody tr th:only-of-type {\n",
       "        vertical-align: middle;\n",
       "    }\n",
       "\n",
       "    .dataframe tbody tr th {\n",
       "        vertical-align: top;\n",
       "    }\n",
       "\n",
       "    .dataframe thead th {\n",
       "        text-align: right;\n",
       "    }\n",
       "</style>\n",
       "<table border=\"1\" class=\"dataframe\">\n",
       "  <thead>\n",
       "    <tr style=\"text-align: right;\">\n",
       "      <th></th>\n",
       "      <th>image_id</th>\n",
       "      <th>soil_type</th>\n",
       "    </tr>\n",
       "  </thead>\n",
       "  <tbody>\n",
       "    <tr>\n",
       "      <th>0</th>\n",
       "      <td>img_0f035b97.jpg</td>\n",
       "      <td>Clay soil</td>\n",
       "    </tr>\n",
       "    <tr>\n",
       "      <th>1</th>\n",
       "      <td>img_f13af256.jpg</td>\n",
       "      <td>Clay soil</td>\n",
       "    </tr>\n",
       "    <tr>\n",
       "      <th>2</th>\n",
       "      <td>img_15b41dbc.jpg</td>\n",
       "      <td>Alluvial soil</td>\n",
       "    </tr>\n",
       "    <tr>\n",
       "      <th>3</th>\n",
       "      <td>img_cfb4fc7a.jpg</td>\n",
       "      <td>Black Soil</td>\n",
       "    </tr>\n",
       "    <tr>\n",
       "      <th>4</th>\n",
       "      <td>img_683111fb.jpg</td>\n",
       "      <td>Black Soil</td>\n",
       "    </tr>\n",
       "  </tbody>\n",
       "</table>\n",
       "</div>"
      ],
      "text/plain": [
       "           image_id      soil_type\n",
       "0  img_0f035b97.jpg      Clay soil\n",
       "1  img_f13af256.jpg      Clay soil\n",
       "2  img_15b41dbc.jpg  Alluvial soil\n",
       "3  img_cfb4fc7a.jpg     Black Soil\n",
       "4  img_683111fb.jpg     Black Soil"
      ]
     },
     "execution_count": 28,
     "metadata": {},
     "output_type": "execute_result"
    }
   ],
   "source": [
    "df_sub.head()"
   ]
  },
  {
   "cell_type": "code",
   "execution_count": 29,
   "id": "c9b09b0b",
   "metadata": {
    "execution": {
     "iopub.execute_input": "2025-05-22T12:18:16.261441Z",
     "iopub.status.busy": "2025-05-22T12:18:16.261216Z",
     "iopub.status.idle": "2025-05-22T12:18:16.269849Z",
     "shell.execute_reply": "2025-05-22T12:18:16.269329Z"
    },
    "papermill": {
     "duration": 0.034637,
     "end_time": "2025-05-22T12:18:16.270859",
     "exception": false,
     "start_time": "2025-05-22T12:18:16.236222",
     "status": "completed"
    },
    "tags": []
   },
   "outputs": [],
   "source": [
    "df_sub.to_csv(OUTPUT_DIR+'submission.csv', index=False)"
   ]
  },
  {
   "cell_type": "code",
   "execution_count": null,
   "id": "7475e80d",
   "metadata": {
    "papermill": {
     "duration": 0.023498,
     "end_time": "2025-05-22T12:18:16.318453",
     "exception": false,
     "start_time": "2025-05-22T12:18:16.294955",
     "status": "completed"
    },
    "tags": []
   },
   "outputs": [],
   "source": []
  }
 ],
 "metadata": {
  "kaggle": {
   "accelerator": "nvidiaTeslaT4",
   "dataSources": [
    {
     "databundleVersionId": 12375409,
     "sourceId": 102672,
     "sourceType": "competition"
    },
    {
     "sourceId": 241121171,
     "sourceType": "kernelVersion"
    }
   ],
   "dockerImageVersionId": 31041,
   "isGpuEnabled": true,
   "isInternetEnabled": true,
   "language": "python",
   "sourceType": "notebook"
  },
  "kernelspec": {
   "display_name": "Python 3",
   "language": "python",
   "name": "python3"
  },
  "language_info": {
   "codemirror_mode": {
    "name": "ipython",
    "version": 3
   },
   "file_extension": ".py",
   "mimetype": "text/x-python",
   "name": "python",
   "nbconvert_exporter": "python",
   "pygments_lexer": "ipython3",
   "version": "3.11.11"
  },
  "papermill": {
   "default_parameters": {},
   "duration": 140.527613,
   "end_time": "2025-05-22T12:18:19.603254",
   "environment_variables": {},
   "exception": null,
   "input_path": "__notebook__.ipynb",
   "output_path": "__notebook__.ipynb",
   "parameters": {},
   "start_time": "2025-05-22T12:15:59.075641",
   "version": "2.6.0"
  },
  "widgets": {
   "application/vnd.jupyter.widget-state+json": {
    "state": {
     "0057fd430225439daf5902cff105be00": {
      "model_module": "@jupyter-widgets/controls",
      "model_module_version": "2.0.0",
      "model_name": "HTMLModel",
      "state": {
       "_dom_classes": [],
       "_model_module": "@jupyter-widgets/controls",
       "_model_module_version": "2.0.0",
       "_model_name": "HTMLModel",
       "_view_count": null,
       "_view_module": "@jupyter-widgets/controls",
       "_view_module_version": "2.0.0",
       "_view_name": "HTMLView",
       "description": "",
       "description_allow_html": false,
       "layout": "IPY_MODEL_4762f449f5a2493dbe439bde0df94a85",
       "placeholder": "​",
       "style": "IPY_MODEL_412be200829f4a2b848b9bc61bcb656f",
       "tabbable": null,
       "tooltip": null,
       "value": " 22/22 [00:30&lt;00:00,  1.09s/it]"
      }
     },
     "349eadb25a554eee856692c3c7d8ad52": {
      "model_module": "@jupyter-widgets/controls",
      "model_module_version": "2.0.0",
      "model_name": "HBoxModel",
      "state": {
       "_dom_classes": [],
       "_model_module": "@jupyter-widgets/controls",
       "_model_module_version": "2.0.0",
       "_model_name": "HBoxModel",
       "_view_count": null,
       "_view_module": "@jupyter-widgets/controls",
       "_view_module_version": "2.0.0",
       "_view_name": "HBoxView",
       "box_style": "",
       "children": [
        "IPY_MODEL_b5b53e8fc235465bbd90838279aa1e2e",
        "IPY_MODEL_d45a3f9618be48b881cdf51e939309d9",
        "IPY_MODEL_0057fd430225439daf5902cff105be00"
       ],
       "layout": "IPY_MODEL_eb949c3c0d1246588bc67b789bc15b20",
       "tabbable": null,
       "tooltip": null
      }
     },
     "3b87dc944d0a45199391757bf4b5644b": {
      "model_module": "@jupyter-widgets/base",
      "model_module_version": "2.0.0",
      "model_name": "LayoutModel",
      "state": {
       "_model_module": "@jupyter-widgets/base",
       "_model_module_version": "2.0.0",
       "_model_name": "LayoutModel",
       "_view_count": null,
       "_view_module": "@jupyter-widgets/base",
       "_view_module_version": "2.0.0",
       "_view_name": "LayoutView",
       "align_content": null,
       "align_items": null,
       "align_self": null,
       "border_bottom": null,
       "border_left": null,
       "border_right": null,
       "border_top": null,
       "bottom": null,
       "display": null,
       "flex": null,
       "flex_flow": null,
       "grid_area": null,
       "grid_auto_columns": null,
       "grid_auto_flow": null,
       "grid_auto_rows": null,
       "grid_column": null,
       "grid_gap": null,
       "grid_row": null,
       "grid_template_areas": null,
       "grid_template_columns": null,
       "grid_template_rows": null,
       "height": null,
       "justify_content": null,
       "justify_items": null,
       "left": null,
       "margin": null,
       "max_height": null,
       "max_width": null,
       "min_height": null,
       "min_width": null,
       "object_fit": null,
       "object_position": null,
       "order": null,
       "overflow": null,
       "padding": null,
       "right": null,
       "top": null,
       "visibility": null,
       "width": null
      }
     },
     "412be200829f4a2b848b9bc61bcb656f": {
      "model_module": "@jupyter-widgets/controls",
      "model_module_version": "2.0.0",
      "model_name": "HTMLStyleModel",
      "state": {
       "_model_module": "@jupyter-widgets/controls",
       "_model_module_version": "2.0.0",
       "_model_name": "HTMLStyleModel",
       "_view_count": null,
       "_view_module": "@jupyter-widgets/base",
       "_view_module_version": "2.0.0",
       "_view_name": "StyleView",
       "background": null,
       "description_width": "",
       "font_size": null,
       "text_color": null
      }
     },
     "4762f449f5a2493dbe439bde0df94a85": {
      "model_module": "@jupyter-widgets/base",
      "model_module_version": "2.0.0",
      "model_name": "LayoutModel",
      "state": {
       "_model_module": "@jupyter-widgets/base",
       "_model_module_version": "2.0.0",
       "_model_name": "LayoutModel",
       "_view_count": null,
       "_view_module": "@jupyter-widgets/base",
       "_view_module_version": "2.0.0",
       "_view_name": "LayoutView",
       "align_content": null,
       "align_items": null,
       "align_self": null,
       "border_bottom": null,
       "border_left": null,
       "border_right": null,
       "border_top": null,
       "bottom": null,
       "display": null,
       "flex": null,
       "flex_flow": null,
       "grid_area": null,
       "grid_auto_columns": null,
       "grid_auto_flow": null,
       "grid_auto_rows": null,
       "grid_column": null,
       "grid_gap": null,
       "grid_row": null,
       "grid_template_areas": null,
       "grid_template_columns": null,
       "grid_template_rows": null,
       "height": null,
       "justify_content": null,
       "justify_items": null,
       "left": null,
       "margin": null,
       "max_height": null,
       "max_width": null,
       "min_height": null,
       "min_width": null,
       "object_fit": null,
       "object_position": null,
       "order": null,
       "overflow": null,
       "padding": null,
       "right": null,
       "top": null,
       "visibility": null,
       "width": null
      }
     },
     "57f330527ca64a51b850c0db8fb86bcf": {
      "model_module": "@jupyter-widgets/controls",
      "model_module_version": "2.0.0",
      "model_name": "ProgressStyleModel",
      "state": {
       "_model_module": "@jupyter-widgets/controls",
       "_model_module_version": "2.0.0",
       "_model_name": "ProgressStyleModel",
       "_view_count": null,
       "_view_module": "@jupyter-widgets/base",
       "_view_module_version": "2.0.0",
       "_view_name": "StyleView",
       "bar_color": null,
       "description_width": ""
      }
     },
     "b30e00c2f50b4ed4bb72b04e41f8cb1a": {
      "model_module": "@jupyter-widgets/controls",
      "model_module_version": "2.0.0",
      "model_name": "HTMLStyleModel",
      "state": {
       "_model_module": "@jupyter-widgets/controls",
       "_model_module_version": "2.0.0",
       "_model_name": "HTMLStyleModel",
       "_view_count": null,
       "_view_module": "@jupyter-widgets/base",
       "_view_module_version": "2.0.0",
       "_view_name": "StyleView",
       "background": null,
       "description_width": "",
       "font_size": null,
       "text_color": null
      }
     },
     "b55c3387ca4045e0950590858adbc380": {
      "model_module": "@jupyter-widgets/base",
      "model_module_version": "2.0.0",
      "model_name": "LayoutModel",
      "state": {
       "_model_module": "@jupyter-widgets/base",
       "_model_module_version": "2.0.0",
       "_model_name": "LayoutModel",
       "_view_count": null,
       "_view_module": "@jupyter-widgets/base",
       "_view_module_version": "2.0.0",
       "_view_name": "LayoutView",
       "align_content": null,
       "align_items": null,
       "align_self": null,
       "border_bottom": null,
       "border_left": null,
       "border_right": null,
       "border_top": null,
       "bottom": null,
       "display": null,
       "flex": null,
       "flex_flow": null,
       "grid_area": null,
       "grid_auto_columns": null,
       "grid_auto_flow": null,
       "grid_auto_rows": null,
       "grid_column": null,
       "grid_gap": null,
       "grid_row": null,
       "grid_template_areas": null,
       "grid_template_columns": null,
       "grid_template_rows": null,
       "height": null,
       "justify_content": null,
       "justify_items": null,
       "left": null,
       "margin": null,
       "max_height": null,
       "max_width": null,
       "min_height": null,
       "min_width": null,
       "object_fit": null,
       "object_position": null,
       "order": null,
       "overflow": null,
       "padding": null,
       "right": null,
       "top": null,
       "visibility": null,
       "width": null
      }
     },
     "b5b53e8fc235465bbd90838279aa1e2e": {
      "model_module": "@jupyter-widgets/controls",
      "model_module_version": "2.0.0",
      "model_name": "HTMLModel",
      "state": {
       "_dom_classes": [],
       "_model_module": "@jupyter-widgets/controls",
       "_model_module_version": "2.0.0",
       "_model_name": "HTMLModel",
       "_view_count": null,
       "_view_module": "@jupyter-widgets/controls",
       "_view_module_version": "2.0.0",
       "_view_name": "HTMLView",
       "description": "",
       "description_allow_html": false,
       "layout": "IPY_MODEL_3b87dc944d0a45199391757bf4b5644b",
       "placeholder": "​",
       "style": "IPY_MODEL_b30e00c2f50b4ed4bb72b04e41f8cb1a",
       "tabbable": null,
       "tooltip": null,
       "value": "100%"
      }
     },
     "d45a3f9618be48b881cdf51e939309d9": {
      "model_module": "@jupyter-widgets/controls",
      "model_module_version": "2.0.0",
      "model_name": "FloatProgressModel",
      "state": {
       "_dom_classes": [],
       "_model_module": "@jupyter-widgets/controls",
       "_model_module_version": "2.0.0",
       "_model_name": "FloatProgressModel",
       "_view_count": null,
       "_view_module": "@jupyter-widgets/controls",
       "_view_module_version": "2.0.0",
       "_view_name": "ProgressView",
       "bar_style": "success",
       "description": "",
       "description_allow_html": false,
       "layout": "IPY_MODEL_b55c3387ca4045e0950590858adbc380",
       "max": 22.0,
       "min": 0.0,
       "orientation": "horizontal",
       "style": "IPY_MODEL_57f330527ca64a51b850c0db8fb86bcf",
       "tabbable": null,
       "tooltip": null,
       "value": 22.0
      }
     },
     "eb949c3c0d1246588bc67b789bc15b20": {
      "model_module": "@jupyter-widgets/base",
      "model_module_version": "2.0.0",
      "model_name": "LayoutModel",
      "state": {
       "_model_module": "@jupyter-widgets/base",
       "_model_module_version": "2.0.0",
       "_model_name": "LayoutModel",
       "_view_count": null,
       "_view_module": "@jupyter-widgets/base",
       "_view_module_version": "2.0.0",
       "_view_name": "LayoutView",
       "align_content": null,
       "align_items": null,
       "align_self": null,
       "border_bottom": null,
       "border_left": null,
       "border_right": null,
       "border_top": null,
       "bottom": null,
       "display": null,
       "flex": null,
       "flex_flow": null,
       "grid_area": null,
       "grid_auto_columns": null,
       "grid_auto_flow": null,
       "grid_auto_rows": null,
       "grid_column": null,
       "grid_gap": null,
       "grid_row": null,
       "grid_template_areas": null,
       "grid_template_columns": null,
       "grid_template_rows": null,
       "height": null,
       "justify_content": null,
       "justify_items": null,
       "left": null,
       "margin": null,
       "max_height": null,
       "max_width": null,
       "min_height": null,
       "min_width": null,
       "object_fit": null,
       "object_position": null,
       "order": null,
       "overflow": null,
       "padding": null,
       "right": null,
       "top": null,
       "visibility": null,
       "width": null
      }
     }
    },
    "version_major": 2,
    "version_minor": 0
   }
  }
 },
 "nbformat": 4,
 "nbformat_minor": 5
}
